{
  "nbformat": 4,
  "nbformat_minor": 0,
  "metadata": {
    "colab": {
      "name": "Урок 2. Дискретные случайные величины. Закон распределения вероятностей. Биномиальный закон распределения. Распределение Пуассона.ipynb",
      "provenance": []
    },
    "kernelspec": {
      "name": "python3",
      "display_name": "Python 3"
    },
    "language_info": {
      "name": "python"
    }
  },
  "cells": [
    {
      "cell_type": "code",
      "metadata": {
        "id": "qqo4v3_k5t2F"
      },
      "source": [
        "import numpy as np\n",
        "from math import factorial\n",
        "\n",
        "# Формула для подсчета сочетаний\n",
        "def combinations(n, k):\n",
        "    return int(factorial(n) / (factorial(k) * factorial(n - k)))\n",
        "\n",
        "# Формула для подсчета размещений\n",
        "def arrangements(n, k):\n",
        "    return int(factorial(n) / factorial(n - k))\n",
        "\n",
        "# Формула для подсчета перестановок\n",
        "def permutations(n):\n",
        "    return int(factorial(n))"
      ],
      "execution_count": 4,
      "outputs": []
    },
    {
      "cell_type": "markdown",
      "metadata": {
        "id": "-iONS4BD51Qs"
      },
      "source": [
        "**1. Вероятность того, что стрелок попадет в мишень, выстрелив один раз, равна 0.8. Стрелок выстрелил 100 раз. Найдите вероятность того, что стрелок попадет в цель ровно 85 раз.**"
      ]
    },
    {
      "cell_type": "markdown",
      "metadata": {
        "id": "WdMM4psE9MyH"
      },
      "source": [
        "Воспользуемся формулой Бернулли:\n",
        "\n",
        "$P(k) = C^k_np^kq^{n-k}$\n",
        "\n",
        "$P(k=85) = C^{85}_{100}*0.8^{85}*(1-0.8)^{100-85}=\\frac{100!}{85!(100-85)!}*0.8^{85}*0.2^{15} \\approx 0.048$\n",
        "\n",
        "${\\color {red}{Ответ:\\,0.048}}$"
      ]
    },
    {
      "cell_type": "code",
      "metadata": {
        "colab": {
          "base_uri": "https://localhost:8080/"
        },
        "id": "gdVhGUYd9M9r",
        "outputId": "6c5a96c6-d6e4-4596-ec19-7e40fe236b4b"
      },
      "source": [
        "# Формула Бернулли\n",
        "\n",
        "n = 100\n",
        "k = 85\n",
        "p_win = 0.8\n",
        "\n",
        "P = combinations(n, k)*p_win**k*(1-p_win)**(n-k)\n",
        "\n",
        "print(f'Вероятность: {P}')"
      ],
      "execution_count": null,
      "outputs": [
        {
          "output_type": "stream",
          "text": [
            "Вероятность: 0.048061793700746355\n"
          ],
          "name": "stdout"
        }
      ]
    },
    {
      "cell_type": "markdown",
      "metadata": {
        "id": "Tmr9XRa7811g"
      },
      "source": [
        "**2. Вероятность того, что лампочка перегорит в течение первого дня эксплуатации, равна 0.0004. В жилом комплексе после ремонта в один день включили 5000 новых лампочек.**\n",
        "\n",
        "**а) Какова вероятность, что ни одна из них не перегорит в первый день?**\n",
        "\n",
        "**б) Какова вероятность, что перегорят ровно две?**"
      ]
    },
    {
      "cell_type": "markdown",
      "metadata": {
        "id": "Z153O9Ptzdp-"
      },
      "source": [
        "Воспользуемся формулой Пуассона:\n",
        "\n",
        "$P_m \\approx \\frac{\\lambda^m}{m!}e^{-\\lambda}$,\n",
        "\n",
        "где $λ = np$.\n",
        "\n",
        "Найдем $λ$:\n",
        "\n",
        "$λ = 5000 * 0.0004 = 2$ \n",
        "\n",
        "а) Вероятность, что ни одна лампочка не перегорит:\n",
        "\n",
        "$P_0 \\approx \\frac{\\lambda^m}{m!}e^{-\\lambda} \\approx \\frac{2^{0}}{0!}e^{-2} \\approx  0.135$\n",
        "\n",
        "${\\color {red}{Ответ:\\,0.135}}$\n",
        "\n",
        "б) Вероятность, что перегорят 2 лампочки:\n",
        "\n",
        "$P_2 = \\approx \\frac{\\lambda^m}{m!}e^{-\\lambda} \\approx \\frac{2^{2}}{2!}e^{-2} \\approx  0.271$\n",
        "\n",
        "${\\color {red}{Ответ:\\,0.271}}$\n",
        "\n"
      ]
    },
    {
      "cell_type": "code",
      "metadata": {
        "colab": {
          "base_uri": "https://localhost:8080/"
        },
        "id": "TMlBzEQt2Fgi",
        "outputId": "a1207e2d-1369-41c6-f26e-70bac1e660e8"
      },
      "source": [
        "# Формула Пуассона\n",
        "\n",
        "n = 5000\n",
        "m1 = 0\n",
        "m2 = 2\n",
        "p = 0.0004\n",
        "lambda_ = n * p\n",
        "\n",
        "P_a = (lambda_**m1 / np.math.factorial(m1)) * np.exp(-lambda_)\n",
        "P_b = (lambda_**m2 / np.math.factorial(m2)) * np.exp(-lambda_)\n",
        "\n",
        "print(f'Вероятность а): {P_a}')\n",
        "print(f'Вероятность б): {P_b}')"
      ],
      "execution_count": 68,
      "outputs": [
        {
          "output_type": "stream",
          "text": [
            "Вероятность а): 0.1353352832366127\n",
            "Вероятность б): 0.2706705664732254\n"
          ],
          "name": "stdout"
        }
      ]
    },
    {
      "cell_type": "markdown",
      "metadata": {
        "id": "ENt7T8f29DU1"
      },
      "source": [
        "**3. Монету подбросили 144 раза. Какова вероятность, что орел выпадет ровно 70 раз?**"
      ]
    },
    {
      "cell_type": "markdown",
      "metadata": {
        "id": "svKLeZloMcNz"
      },
      "source": [
        "Вероятность выпадения орла равна $\\frac{1}{2}$. \n",
        "\n",
        "Воспользуемся формулой Бернулли:\n",
        "\n",
        "$P(k=70) = C^{70}_{144}*0.5^{70}*(1-0.5)^{144-70}=\\frac{144!}{70!(144-70)!}*0.5^{70}*0.5^{74} \\approx 0.063$\n",
        "\n",
        "${\\color {red}{Ответ:\\,0.063}}$"
      ]
    },
    {
      "cell_type": "code",
      "metadata": {
        "colab": {
          "base_uri": "https://localhost:8080/"
        },
        "id": "WFA5fWvvMelh",
        "outputId": "31b2e5b4-a4c0-4d76-c73d-37b0d8ef7420"
      },
      "source": [
        "# Формула Бернулли\n",
        "\n",
        "n = 144\n",
        "k = 70\n",
        "\n",
        "# Выпадение орла к общему числу исходов\n",
        "p_eagle = 0.5\n",
        "\n",
        "P = combinations(n, k)*p_eagle**k*(1-p_eagle)**(n-k)\n",
        "\n",
        "print(f'Вероятность: {P}')"
      ],
      "execution_count": 69,
      "outputs": [
        {
          "output_type": "stream",
          "text": [
            "Вероятность: 0.06281178035144776\n"
          ],
          "name": "stdout"
        }
      ]
    },
    {
      "cell_type": "markdown",
      "metadata": {
        "id": "XPKs-_Z99INb"
      },
      "source": [
        "**4. В первом ящике находится 10 мячей, из которых 7 - белые. Во втором ящике - 11 мячей, из которых 9 белых. Из каждого ящика вытаскивают случайным образом по два мяча.**\n",
        "\n",
        "**а) Какова вероятность того, что все мячи белые?**\n",
        "\n",
        "**б) Какова вероятность того, что ровно два мяча белые?**\n",
        "\n",
        "**в) Какова вероятность того, что хотя бы один мяч белый?**"
      ]
    },
    {
      "cell_type": "markdown",
      "metadata": {
        "id": "-lHLrciX4rTa"
      },
      "source": [
        "${\\color {red}{Ответ\\ а):\\,0.305}}$\n",
        "\n",
        "${\\color {red}{Ответ\\ б):\\,0.204}}$\n",
        "\n",
        "${\\color {red}{Ответ\\ в):\\,0.998}}$"
      ]
    },
    {
      "cell_type": "code",
      "metadata": {
        "id": "yYGIGKEU6OIn"
      },
      "source": [
        "# Решение через сочетания и формулу Байеса\n",
        "\n",
        "# 1-й ящик 0 белых мячей\n",
        "p_box1_w0 = combinations(3, 2)*combinations(7, 0)/combinations(10, 2) # 0.06666666666666667\n",
        "\n",
        "# 1-й ящик 1 белый мяч\n",
        "p_box1_w1 = combinations(7, 1)*combinations(3, 1)/combinations(10, 2) # 0.4666666666666667\n",
        "\n",
        "# 1-й ящик 2 белых мяча\n",
        "p_box1_w2 = combinations(7, 2)*combinations(3, 0)/combinations(10, 2) # 0.4666666666666667\n",
        "\n",
        "# 2-й ящик 0 белых мячей\n",
        "p_box2_w0 = combinations(2, 2)*combinations(9, 0)/combinations(11, 2) # 0.01818181818181818\n",
        "\n",
        "# 2-й ящик 1 белый мяч\n",
        "p_box2_w1 = combinations(9, 1)*combinations(2, 1)/combinations(11, 2) # 0.32727272727272727\n",
        "\n",
        "# 2-й ящик 2 белых мяча\n",
        "p_box2_w2 = combinations(9, 2)*combinations(2, 0)/combinations(11, 2) # 0.6545454545454545"
      ],
      "execution_count": 47,
      "outputs": []
    },
    {
      "cell_type": "code",
      "metadata": {
        "colab": {
          "base_uri": "https://localhost:8080/"
        },
        "id": "CnlirdXo-nUN",
        "outputId": "8529d463-35da-4d95-c2cd-dd5c497d7d69"
      },
      "source": [
        "# Вероятность того, что все мячи белые\n",
        "p_total_a = p_box1_w2*p_box2_w2\n",
        "\n",
        "print(f'Ответ а): {p_total_a}')"
      ],
      "execution_count": 70,
      "outputs": [
        {
          "output_type": "stream",
          "text": [
            "Ответ а): 0.3054545454545455\n"
          ],
          "name": "stdout"
        }
      ]
    },
    {
      "cell_type": "code",
      "metadata": {
        "colab": {
          "base_uri": "https://localhost:8080/"
        },
        "id": "Pn7Tijr2-qOQ",
        "outputId": "d751fcc9-1db4-4c68-f1b9-06f3bf194182"
      },
      "source": [
        "# Вероятность того, что ровно 2 мяча белые\n",
        "p_case1 = p_box1_w2*p_box2_w0 # 0.008484848484848484\n",
        "p_case2 = p_box1_w0*p_box2_w2 # 0.04363636363636363\n",
        "p_case3 = p_box1_w1*p_box2_w1 # 0.15272727272727274\n",
        "\n",
        "p_total_b = p_case1 + p_case2 + p_case3\n",
        "\n",
        "print(f'Ответ б): {p_total_b}')"
      ],
      "execution_count": 71,
      "outputs": [
        {
          "output_type": "stream",
          "text": [
            "Ответ б): 0.20484848484848486\n"
          ],
          "name": "stdout"
        }
      ]
    },
    {
      "cell_type": "code",
      "metadata": {
        "colab": {
          "base_uri": "https://localhost:8080/"
        },
        "id": "j9mASs8W-sW2",
        "outputId": "d65c3371-7900-4897-f1f1-f05c114934f6"
      },
      "source": [
        "# Вероятность того, что хотя бы 1 мяч белый\n",
        "p_case1 = p_box1_w0*p_box2_w1 # 0.021818181818181816\n",
        "p_case2 = p_box1_w0*p_box2_w2 # 0.04363636363636363\n",
        "p_case3 = p_box1_w1*p_box2_w0 # 0.008484848484848484\n",
        "p_case4 = p_box1_w1*p_box2_w1 # 0.15272727272727274\n",
        "p_case5 = p_box1_w1*p_box2_w2 # 0.3054545454545455\n",
        "p_case6 = p_box1_w2*p_box2_w0 # 0.008484848484848484\n",
        "p_case7 = p_box1_w2*p_box2_w1 # 0.15272727272727274\n",
        "p_case8 = p_box1_w2*p_box2_w2 # 0.3054545454545455\n",
        "\n",
        "p_total_v = p_case1 + p_case2 + p_case3 + p_case4 + p_case5 + p_case6 + p_case7 + p_case8\n",
        "\n",
        "print(f'Ответ в): {p_total_v}')"
      ],
      "execution_count": 72,
      "outputs": [
        {
          "output_type": "stream",
          "text": [
            "Ответ в): 0.998787878787879\n"
          ],
          "name": "stdout"
        }
      ]
    }
  ]
}