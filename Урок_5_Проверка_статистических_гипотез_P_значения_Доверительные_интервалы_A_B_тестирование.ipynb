{
  "nbformat": 4,
  "nbformat_minor": 0,
  "metadata": {
    "colab": {
      "name": "Урок 5. Проверка статистических гипотез. P-значения. Доверительные интервалы. A/B-тестирование.ipynb",
      "provenance": []
    },
    "kernelspec": {
      "name": "python3",
      "display_name": "Python 3"
    },
    "language_info": {
      "name": "python"
    }
  },
  "cells": [
    {
      "cell_type": "code",
      "metadata": {
        "id": "3x2aadqQaOHo"
      },
      "source": [
        "import pandas as pd\n",
        "import numpy as np\n",
        "from scipy.stats import norm"
      ],
      "execution_count": 1,
      "outputs": []
    },
    {
      "cell_type": "markdown",
      "metadata": {
        "id": "O6osBYXpaQ7f"
      },
      "source": [
        "**1. Известно, что генеральная совокупность распределена нормально со средним квадратическим отклонением, равным 16. Найти доверительный интервал для оценки математического ожидания a с надежностью 0.95, если выборочная средняя M = 80, а объем выборки n = 256.**"
      ]
    },
    {
      "cell_type": "markdown",
      "metadata": {
        "id": "S6Ya7YUrbDPn"
      },
      "source": [
        "По условию задачи:\n",
        "\n",
        "$\\sigma = 16$\n",
        "\n",
        "$\\alpha = 1 - 0.95 = 0.05$\n",
        "\n",
        "$\\mu = 80$\n",
        "\n",
        "$n = 256$\n",
        "\n",
        "Так как $\\sigma$ известна, воспользуемся критерием $Z$.\n",
        "\n",
        "$Z_{\\frac{\\alpha}{2}} = Z_{\\frac{0.05}{2}} = Z_{0.025} = 1.96$\n",
        "\n",
        "Доверительные интервалы найдем по формуле:\n",
        "\n",
        "$T_{1,2} = \\overline{X} \\pm Z_{\\frac{\\alpha}{2}}*\\frac{\\sigma}{\\sqrt{n}}$\n",
        "\n",
        "Подставим значения:\n",
        "\n",
        "$T_{1,2} = 80 \\pm 1.96*\\frac{16}{\\sqrt{256}}$\n",
        "\n",
        "$T_{1} = 78.04$\n",
        "\n",
        "$T_{2} = 81.96$\n",
        "\n",
        "${\\color {red}{Ответ:\\,[78.04,\\,81.96]}}$"
      ]
    },
    {
      "cell_type": "code",
      "metadata": {
        "colab": {
          "base_uri": "https://localhost:8080/"
        },
        "id": "NJ0AEkGCWJLe",
        "outputId": "8bf48a7b-9fb9-4b4a-d4e3-1e4edf859c2c"
      },
      "source": [
        "# Значение площади из Z-таблицы\n",
        "print(f'Площадь: {norm.cdf(1.96)}')\n",
        "\n",
        "# Значение сигмы из Z-таблицы\n",
        "print(f'Сигма: {norm.ppf(0.975)}')"
      ],
      "execution_count": null,
      "outputs": [
        {
          "output_type": "stream",
          "text": [
            "Площадь: 0.9750021048517795\n",
            "Сигма: 1.959963984540054\n"
          ],
          "name": "stdout"
        }
      ]
    },
    {
      "cell_type": "code",
      "metadata": {
        "colab": {
          "base_uri": "https://localhost:8080/"
        },
        "id": "5hLsPhCOSe8M",
        "outputId": "e0b13733-2b7d-48a2-fe06-10f631d032d1"
      },
      "source": [
        "sigma = 16\n",
        "alpha = 0.05\n",
        "n = 256\n",
        "mu = 80\n",
        "\n",
        "T_1 = mu + norm.ppf(1 - alpha/2)*(sigma/np.sqrt(n))\n",
        "T_2 = mu - norm.ppf(1 - alpha/2)*(sigma/np.sqrt(n))\n",
        "\n",
        "print(f'[{T_2:.2f}, {T_1:.2f}]')"
      ],
      "execution_count": null,
      "outputs": [
        {
          "output_type": "stream",
          "text": [
            "[78.04, 81.96]\n"
          ],
          "name": "stdout"
        }
      ]
    },
    {
      "cell_type": "markdown",
      "metadata": {
        "id": "Nhw2_xBWaflK"
      },
      "source": [
        "**2. В результате 10 независимых измерений некоторой величины X, выполненных с одинаковой точностью, получены опытные данные: 6.9, 6.1, 6.2, 6.8, 7.5, 6.3, 6.4, 6.9, 6.7, 6.1 Предполагая, что результаты измерений подчинены нормальному закону распределения вероятностей, оценить истинное значение величины X при помощи доверительного интервала, покрывающего это значение с доверительной вероятностью 0,95.**"
      ]
    },
    {
      "cell_type": "markdown",
      "metadata": {
        "id": "tyTPe6TB6m40"
      },
      "source": [
        "По условию задачи:\n",
        "\n",
        "$X_{exp} = [6.9, 6.1, 6.2, 6.8, 7.5, 6.3, 6.4, 6.9, 6.7, 6.1]$\n",
        "\n",
        "$\\alpha = 1 - 0.95 = 0.05$\n",
        "\n",
        "$n = 10$\n",
        "\n",
        "Так как $\\sigma$ неизвестна, воспользуемся $t$-критерием Стьюдента.\n",
        "\n",
        "Найдем $t$ для построения $95$%-го доверительного интервала, $n=10$.\n",
        "\n",
        "$t_{\\frac{\\alpha}{2}} = t_{\\frac{0.05}{2}} = t_{0.025} = 2.262$\n",
        "\n",
        "Посчитаем среднее арифметическое значение наблюдаемых испытаний:\n",
        "\n",
        "$\\mu = \\frac{6.9 + 6.1 + 6.2 + 6.8 + 7.5 + 6.3 + 6.4 + 6.9 + 6.7 + 6.1}{10} = 6.59$\n",
        "\n",
        "Посчитаем несмещенную дисперсию:\n",
        "\n",
        "$D = \\frac{(6.9-6.59)^2 + (6.1-6.59)^2 + (6.2-6.59)^2 + (6.8-6.59)^2 + (7.5-6.59)^2 + (6.3-6.59)^2 + (6.4-6.59)^2 + (6.9-6.59)^2 + (6.7-6.59)^2 + (6.1-6.59)^2}{10-1} = \\frac{0.0961 + 0.2401 + 0.1521 + 0.0441 + 0.8281 + 0.0841 + 0.0361 + 0.0961 + 0.0121 + 0.2401}{9} = \\frac{1.829}{9} = 0.203$\n",
        "\n",
        "Найдем среднее квадратичное отклонение:\n",
        "\n",
        "$\\sigma = \\sqrt{D} = \\sqrt{0.203} = 0.45$\n",
        "\n",
        "Доверительные интервалы найдем по формуле:\n",
        "\n",
        "$T_{1,2} = \\overline{X} \\pm t_{\\frac{\\alpha}{2}}*\\frac{\\sigma}{\\sqrt{n}}$\n",
        "\n",
        "Подставим значения:\n",
        "\n",
        "$T_{1,2} = 6.59 \\pm 2.262*\\frac{0.45}{\\sqrt{10}}$\n",
        "\n",
        "$T_{1} = 6.27$\n",
        "\n",
        "$T_{2} = 6.91$\n",
        "\n",
        "${\\color {red}{Ответ:\\,[6.27,\\,6.91]}}$"
      ]
    },
    {
      "cell_type": "code",
      "metadata": {
        "colab": {
          "base_uri": "https://localhost:8080/"
        },
        "id": "8lDwbl0O5WOO",
        "outputId": "621bdda1-1b54-45f0-d397-9d4b7da7dee6"
      },
      "source": [
        "x_exp = [6.9, 6.1, 6.2, 6.8, 7.5, 6.3, 6.4, 6.9, 6.7, 6.1]\n",
        "alpha = 0.05\n",
        "n = 10\n",
        "\n",
        "# Расчет t-критерия Стьюдента\n",
        "def t(alpha, n):\n",
        "  v = n - 1\n",
        "  a = 1 - (alpha/2)\n",
        "  return scipy.stats.t.ppf(a, v)\n",
        "\n",
        "mu = np.mean(x_exp)\n",
        "D = np.var(x_exp, ddof=1)\n",
        "sigma = np.sqrt(D)\n",
        "T_1 = mu + t(alpha, n)*(sigma/np.sqrt(n))\n",
        "T_2 = mu - t(alpha, n)*(sigma/np.sqrt(n))\n",
        "\n",
        "print(f'[{T_2:.2f}, {T_1:.2f}]')"
      ],
      "execution_count": null,
      "outputs": [
        {
          "output_type": "stream",
          "text": [
            "[6.27, 6.91]\n"
          ],
          "name": "stdout"
        }
      ]
    },
    {
      "cell_type": "markdown",
      "metadata": {
        "id": "tZf5j-e-amna"
      },
      "source": [
        "**3. Утверждается, что шарики для подшипников, изготовленные автоматическим станком, имеют средний диаметр 17 мм. Используя односторонний критерий с α=0,05, проверить эту гипотезу, если в выборке из n=100 шариков средний диаметр оказался равным 17.5 мм, а дисперсия известна и равна 4 кв. мм.**"
      ]
    },
    {
      "cell_type": "markdown",
      "metadata": {
        "id": "2KvGrMnzNVHm"
      },
      "source": [
        "По условию задачи:\n",
        "\n",
        "$\\alpha = 0.05$\n",
        "\n",
        "$n = 100$\n",
        "\n",
        "$D = 4$\n",
        "\n",
        "Запишем нулевую и альтернативную гипотезы: \n",
        "\n",
        "Н0: диаметр $= 17$ мм, $\\mu = \\mu_0$ \n",
        "\n",
        "Н1: диаметр $= 17.5$ мм, $\\mu > \\mu_0$\n",
        "\n",
        "Предположим, что распределение является нормальным. Так как нам известна средняя квадратичная ошибка, для статистической проверки нулевой гипотезы используем $Z$-критерий.\n",
        "\n",
        "Чтобы найти $Z$-расчетное воспользуемся формулой:\n",
        "\n",
        "$Z_н = \\frac{\\overline{X} - \\mu_0}{\\frac{\\sigma}{\\sqrt{n}}}$\n",
        "\n",
        "Подставим значения:\n",
        "\n",
        "$Z_н = \\frac{17.5 - 17}{\\frac{\\sqrt{4}}{\\sqrt{100}}} = \\frac{0.5}{\\frac{1}{5}} = 2.5$\n",
        "\n",
        "Найдем $Z$-табличное при $\\alpha = 0.05$:\n",
        "\n",
        "$Z = 1.645$\n",
        "\n",
        "Так как $Z$-расчетное намного больше $Z$-табличного, отвергаем нулевую гипотезу H0 и принимаем альтернативную H1, что диаметр подшипников больше, чем $17$ мм.\n",
        "\n",
        "${\\color {red}{Ответ:\\,принимаем\\, гипотезу\\,Н1.}}$"
      ]
    },
    {
      "cell_type": "code",
      "metadata": {
        "colab": {
          "base_uri": "https://localhost:8080/"
        },
        "id": "cqJFPvfjrEy5",
        "outputId": "fb92c2f8-274b-4a7d-d32c-0b0ebe4c3900"
      },
      "source": [
        "# Значение сигмы из Z-таблицы\n",
        "print(f'Сигма: {norm.ppf(0.95)}')"
      ],
      "execution_count": null,
      "outputs": [
        {
          "output_type": "stream",
          "text": [
            "Сигма: 1.6448536269514722\n"
          ],
          "name": "stdout"
        }
      ]
    },
    {
      "cell_type": "code",
      "metadata": {
        "colab": {
          "base_uri": "https://localhost:8080/"
        },
        "id": "3SzKO16ZqjRI",
        "outputId": "d0cafb97-576e-4a37-b170-e57f93bd513e"
      },
      "source": [
        "color_sq_a"
      ],
      "execution_count": null,
      "outputs": [
        {
          "output_type": "execute_result",
          "data": {
            "text/plain": [
              "array([20.29, 21.29, 22.29])"
            ]
          },
          "metadata": {},
          "execution_count": 27
        }
      ]
    },
    {
      "cell_type": "code",
      "metadata": {
        "colab": {
          "base_uri": "https://localhost:8080/",
          "height": 296
        },
        "id": "g6a64ADzrqbp",
        "outputId": "1f7757d7-b319-493f-9705-8020fcae6efa"
      },
      "source": [
        "import matplotlib.pyplot as plt\n",
        "import numpy as np\n",
        "import scipy.stats as stats\n",
        "import math\n",
        "\n",
        "n = 100\n",
        "mu = 17\n",
        "mu_1 = 17.5\n",
        "variance = 4\n",
        "sigma = math.sqrt(variance)\n",
        "x = np.linspace(mu - 3*sigma, mu + 3*sigma, 1000)\n",
        "Z_n = round((mu_1 - mu)/(sigma/math.sqrt(n)), 3)\n",
        "Z = round(norm.ppf(0.95), 3)\n",
        "color_sq_a = np.arange(mu + Z*sigma, mu + 3*sigma)\n",
        "\n",
        "plt.plot(x, stats.norm.pdf(x, mu, sigma), color='purple')\n",
        "plt.axvline(mu, ymax=0.95, linewidth=1.0, color='gray')\n",
        "plt.axvline(mu + Z_n*sigma, ymax=0.09, color='black', linewidth=3.0, label='Zн')\n",
        "plt.axvline(mu + Z*sigma, ymax=0.28, color='red', linewidth=1.0, label='Z')\n",
        "plt.fill_between(color_sq_a, stats.norm.pdf(color_sq_a, mu, sigma), color='red')\n",
        "plt.title('График плотности распределения \\nдиаметра подшипников')\n",
        "plt.legend(loc='upper right', fontsize='medium')\n",
        "\n",
        "plt.show()"
      ],
      "execution_count": null,
      "outputs": [
        {
          "output_type": "display_data",
          "data": {
            "image/png": "[encoded data removed]",
            "text/plain": [
              "<Figure size 432x288 with 1 Axes>"
            ]
          },
          "metadata": {
            "needs_background": "light"
          }
        }
      ]
    },
    {
      "cell_type": "markdown",
      "metadata": {
        "id": "mgb2_A4Jarm-"
      },
      "source": [
        "**4. Продавец утверждает, что средний вес пачки печенья составляет 200 г. Из партии извлечена выборка из 10 пачек. Вес каждой пачки составляет: 202, 203, 199, 197, 195, 201, 200, 204, 194, 190. Известно, что их веса распределены нормально. Верно ли утверждение продавца, если учитывать, что доверительная вероятность равна 99%?**"
      ]
    },
    {
      "cell_type": "markdown",
      "metadata": {
        "id": "umUPpwbTBqEv"
      },
      "source": [
        "По условию задачи:\n",
        "\n",
        "$\\mu_0 = 200$\n",
        "\n",
        "$X_{exp} = [202, 203, 199, 197, 195, 201, 200, 204, 194, 190]$\n",
        "\n",
        "$\\alpha = 1 - 0.99 = 0.01$\n",
        "\n",
        "$n = 10$\n",
        "\n",
        "Посчитаем среднее арифметическое значение веса пачек:\n",
        "\n",
        "$\\mu = \\frac{202 + 203 + 199 + 197 + 195 + 201 + 200 + 204 + 194 + 190}{10} = 198.5$\n",
        "\n",
        "Запишем нулевую и альтернативную гипотезы: \n",
        "\n",
        "Н0: диаметр $= 200$ мм, $\\mu = \\mu_0$ \n",
        "\n",
        "Н1: диаметр $= 198.5$ мм, $\\mu \\neq \\mu_0$\n",
        "\n",
        "Посчитаем несмещенную дисперсию:\n",
        "\n",
        "$D = \\frac{(198.5-202)^2 + (198.5-203)^2 + (198.5-199)^2 + (198.5-197)^2 + (198.5-195)^2 + (198.5-201)^2 + (198.5-200)^2 + (198.5-204)^2 + (198.5-194)^2 + (198.5-190)^2}{10-1} = \\frac{12.25 + 20.25 + 0.25 + 2.25 + 12.25 + 6.25 + 2.25 + 30.25 + 20.25 + 72.25}{9} = \\frac{178.5}{9} = 19.83$\n",
        "\n",
        "Найдем среднее квадратичное отклонение:\n",
        "\n",
        "$\\sigma = \\sqrt{D} = \\sqrt{19.83} = 4.45$\n",
        "\n",
        "Чтобы найти $T$-расчетное воспользуемся формулой:\n",
        "\n",
        "$T_н = \\frac{\\overline{X} - \\mu_0}{\\frac{\\sigma}{\\sqrt{n}}}$\n",
        "\n",
        "Подставим значения:\n",
        "\n",
        "$T_н = \\frac{198.5 - 200}{\\frac{4.45}{\\sqrt{10}}} = \\frac{-1.5*3.16}{4.45} = -1.065$\n",
        "\n",
        "Найдем $T$-табличное при $\\alpha = 0.01$, при том, что тест двусторонний:\n",
        "\n",
        "$T_1 = -3.25$\n",
        "\n",
        "$T_2 = 3.25$\n",
        "\n",
        "Так как $T$-расчетное лежит между значениями $T$-табличного, то мы нулевую гипотезу H0 принимаем и считаем, что диаметр средний вес пачки печенья $200$ г.\n",
        "\n",
        "${\\color {red}{Ответ:\\,принимаем\\, гипотезу\\,Н0.}}$"
      ]
    },
    {
      "cell_type": "code",
      "metadata": {
        "colab": {
          "base_uri": "https://localhost:8080/",
          "height": 296
        },
        "id": "lgzRS8COqo4u",
        "outputId": "707f76c3-c215-4ccd-fa49-e81a38e8a352"
      },
      "source": [
        "import matplotlib.pyplot as plt\n",
        "import numpy as np\n",
        "import scipy.stats as stats\n",
        "import math\n",
        "\n",
        "x_exp = [202, 203, 199, 197, 195, 201, 200, 204, 194, 190]\n",
        "alpha = 0.01\n",
        "n = 10\n",
        "mu = 200\n",
        "\n",
        "# Расчет t-критерия Стьюдента\n",
        "def t(alpha, n):\n",
        "  v = n - 1\n",
        "  a = 1 - (alpha/2)\n",
        "  return scipy.stats.t.ppf(a, v)\n",
        "\n",
        "mu_1 = np.mean(x_exp)\n",
        "D = np.var(x_exp, ddof=1)\n",
        "sigma = np.sqrt(D)\n",
        "x = np.linspace(mu - 4*sigma, mu + 4*sigma, 1000)\n",
        "T_n = round((mu_1 - mu)/(sigma/math.sqrt(n)), 3)\n",
        "T = round(t(alpha, n), 3)\n",
        "color_sq_m = np.arange(mu - 4*sigma, mu - T*sigma)\n",
        "color_sq_p = np.arange(mu + T*sigma, mu + 4*sigma)\n",
        "\n",
        "plt.plot(x, stats.norm.pdf(x, mu, sigma), color='purple')\n",
        "plt.axvline(mu, ymax=0.95, linewidth=1.0, color='gray')\n",
        "plt.axvline(mu + T_n*sigma, ymax=0.55, color='black', linewidth=3.0, label='Zн')\n",
        "plt.axvline(mu + T*sigma, ymax=0.05, color='red', linewidth=1.0, label='Z')\n",
        "plt.axvline(mu - T*sigma, ymax=0.05, color='red')\n",
        "plt.fill_between(color_sq_m, stats.norm.pdf(color_sq_m, mu, sigma), color='blue')\n",
        "plt.fill_between(color_sq_p, stats.norm.pdf(color_sq_p, mu, sigma), color='blue')\n",
        "plt.title('График плотности распределения \\nвеса пачек печенья')\n",
        "plt.legend(loc='upper right', fontsize='medium')\n",
        "\n",
        "plt.show()"
      ],
      "execution_count": 44,
      "outputs": [
        {
          "output_type": "display_data",
          "data": {
            "image/png": "[encoded data removed]",
            "text/plain": [
              "<Figure size 432x288 with 1 Axes>"
            ]
          },
          "metadata": {
            "needs_background": "light"
          }
        }
      ]
    }
  ]
}