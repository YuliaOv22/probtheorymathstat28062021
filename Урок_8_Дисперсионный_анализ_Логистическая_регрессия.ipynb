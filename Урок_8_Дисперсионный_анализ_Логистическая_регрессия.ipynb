{
  "nbformat": 4,
  "nbformat_minor": 0,
  "metadata": {
    "colab": {
      "name": "Урок 8. Дисперсионный анализ. Логистическая регрессия.ipynb",
      "provenance": []
    },
    "kernelspec": {
      "name": "python3",
      "display_name": "Python 3"
    },
    "language_info": {
      "name": "python"
    }
  },
  "cells": [
    {
      "cell_type": "code",
      "metadata": {
        "id": "19CQR7GnmShT"
      },
      "source": [
        "import pandas as pd\n",
        "import numpy as np\n",
        "from scipy import stats\n",
        "import matplotlib.pyplot as plt\n",
        "%matplotlib inline"
      ],
      "execution_count": null,
      "outputs": []
    },
    {
      "cell_type": "markdown",
      "metadata": {
        "id": "td0gcxSamXLr"
      },
      "source": [
        "**1. Провести дисперсионный анализ для определения того, есть ли различия среднего роста среди взрослых футболистов, хоккеистов и штангистов. Даны значения роста в трех группах случайно выбранных спортсменов: Футболисты: 173, 175, 180, 178, 177, 185, 183, 182. Хоккеисты: 177, 179, 180, 188, 177, 172, 171, 184, 180. Штангисты: 172, 173, 169, 177, 166, 180, 178, 177, 172, 166, 170.**"
      ]
    },
    {
      "cell_type": "markdown",
      "metadata": {
        "id": "KLpoQpTjalAI"
      },
      "source": [
        "Протестируем нулевую гипотезу, что рост среди взрослых футболистов, хоккеистов и штангистов одинаковый.\n",
        "\n",
        "$H0: \\mu1 = \\mu2 = \\mu3$\n",
        "\n",
        "$H1: \\mu1 \\neq \\mu2 \\neq \\mu3$\n",
        "\n",
        "При $\\alpha = 0.05$:\n",
        "\n",
        "$F_{расч} = 5.5$\n",
        "\n",
        "$F_{табл} = 3.385$\n",
        "\n",
        "$F_{расч} > F_{табл}$\n",
        "\n",
        "**Ответ:** Различия в среднем росте в трех подгруппах статистически значимы."
      ]
    },
    {
      "cell_type": "code",
      "metadata": {
        "id": "v_H6cfXPgXCr",
        "colab": {
          "base_uri": "https://localhost:8080/"
        },
        "outputId": "f4611472-1d30-4d40-83ba-18d1568713a7"
      },
      "source": [
        "football_players = np.array([173, 175, 180, 178, 177, 185, 183, 182])\n",
        "hockey_players = np.array([177, 179, 180, 188, 177, 172, 171, 184, 180])\n",
        "weightlifter_players = np.array([172, 173, 169, 177, 166, 180, 178, 177, 172, 166, 170])\n",
        "\n",
        "alpha = 0.05\n",
        "\n",
        "y_all = np.concatenate([football_players, hockey_players, weightlifter_players])\n",
        "\n",
        "k = len([football_players, hockey_players, weightlifter_players])\n",
        "\n",
        "n1 = len(football_players)\n",
        "n2 = len(hockey_players)\n",
        "n3 = len(weightlifter_players)\n",
        "\n",
        "n = n1 + n2 + n3\n",
        "\n",
        "# Средние по каждому значению\n",
        "y1_mean = np.mean(football_players)\n",
        "y2_mean = np.mean(hockey_players)\n",
        "y3_mean = np.mean(weightlifter_players)\n",
        "\n",
        "# Среднее значение переменной Y по всем значениям\n",
        "y_mean = np.mean(y_all)\n",
        "\n",
        "# Сумма квадратов отклонений наблюдений от общего среднего\n",
        "s2 = np.sum((y_all - y_mean)**2)\n",
        "\n",
        "# Сумма квадратов отклонений средних групповых значений от общего среднего значения y_mean\n",
        "s2_f = np.sum(n1*(y1_mean - y_mean)**2 + n2*(y2_mean - y_mean)**2 + n3*(y3_mean - y_mean)**2)\n",
        "\n",
        "# Остаточная сумма квадратов отклонений\n",
        "s2_residual = np.sum((football_players - y1_mean)**2) + np.sum((hockey_players - y2_mean)**2) + np.sum((weightlifter_players - y3_mean)**2)\n",
        "\n",
        "s2_2 = s2_f + s2_residual\n",
        "\n",
        "# Факторная дисперсия\n",
        "D_f = s2_f/(k - 1)\n",
        "\n",
        "# Остаточная дисперсия\n",
        "D_r = s2_residual/(n - k)\n",
        "\n",
        "# Критерий Фишера расчетный\n",
        "F = D_f/D_r\n",
        "\n",
        "# Критерий Фишера табличный\n",
        "F_crit = stats.f.ppf(1-alpha, dfn=(k-1), dfd=(n-k))\n",
        "\n",
        "if F > F_crit:\n",
        "  print(f'F: {F:.3f} > F_crit: {F_crit:.3f}\\nВерна гипотеза H1.')\n",
        "else:\n",
        "  print(f'F: {F:.3f} < F_crit: {F_crit:.3f}\\n Верна гипотеза H0.')"
      ],
      "execution_count": null,
      "outputs": [
        {
          "output_type": "stream",
          "name": "stdout",
          "text": [
            "F: 5.500 > F_crit: 3.385\n",
            "Верна гипотеза H1.\n"
          ]
        }
      ]
    },
    {
      "cell_type": "code",
      "metadata": {
        "id": "zwgHiUFPRfPx",
        "colab": {
          "base_uri": "https://localhost:8080/"
        },
        "outputId": "8803a6c6-41a4-4cd4-e76f-db1f2d0dfd50"
      },
      "source": [
        "# Нахождение критерия Фишера через библиотеку\n",
        "stats.f_oneway(football_players, hockey_players, weightlifter_players)"
      ],
      "execution_count": null,
      "outputs": [
        {
          "output_type": "execute_result",
          "data": {
            "text/plain": [
              "F_onewayResult(statistic=0.038473767885532584, pvalue=0.8471274829862326)"
            ]
          },
          "metadata": {},
          "execution_count": 10
        }
      ]
    }
  ]
}