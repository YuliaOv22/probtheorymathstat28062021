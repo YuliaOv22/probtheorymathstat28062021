{
  "nbformat": 4,
  "nbformat_minor": 0,
  "metadata": {
    "colab": {
      "name": "Урок 7. Многомерный статистический анализ. Линейная регрессия.ipynb",
      "provenance": []
    },
    "kernelspec": {
      "name": "python3",
      "display_name": "Python 3"
    },
    "language_info": {
      "name": "python"
    }
  },
  "cells": [
    {
      "cell_type": "code",
      "metadata": {
        "id": "5kWaxVj1dVzH"
      },
      "source": [
        "import pandas as pd\n",
        "import numpy as np\n",
        "import matplotlib.pyplot as plt\n",
        "%matplotlib inline"
      ],
      "execution_count": null,
      "outputs": []
    },
    {
      "cell_type": "markdown",
      "metadata": {
        "id": "tFZMN5sBdd4J"
      },
      "source": [
        "**1. Даны значения величины заработной платы заемщиков банка (zp) и значения их поведенческого кредитного скоринга (ks): zp = [35, 45, 190, 200, 40, 70, 54, 150, 120, 110], ks = [401, 574, 874, 919, 459, 739, 653, 902, 746, 832]. Используя математические операции, посчитать коэффициенты линейной регрессии, приняв за X заработную плату (то есть, zp - признак), а за y - значения скорингового балла (то есть, ks - целевая переменная). Произвести расчет как с использованием intercept, так и без.**"
      ]
    },
    {
      "cell_type": "markdown",
      "metadata": {
        "id": "MbsvZEtw_GuK"
      },
      "source": [
        "Уравнение линейной регрессии:\n",
        "\n",
        "$y = a + bx$\n",
        "\n",
        "Коэффициенты уравнения линейной регрессии:\n",
        "\n",
        "$b = \\frac{\\overline{yx} - \\overline{y} \\cdot {\\overline{x}}}{\\overline{x^2} - (\\overline{x})^2}$\n",
        "\n",
        "$a = \\overline{y} - b \\cdot {\\overline{x}}$"
      ]
    },
    {
      "cell_type": "code",
      "metadata": {
        "colab": {
          "base_uri": "https://localhost:8080/"
        },
        "id": "KaoWhfSHpms_",
        "outputId": "efce20a8-363f-4f1f-91ba-2ca4a1b7c3ca"
      },
      "source": [
        "# Решение через формулы\n",
        "# С интерсептом\n",
        "\n",
        "x = np.array([35, 45, 190, 200, 40, 70, 54, 150, 120, 110])\n",
        "y = np.array([401, 574, 874, 919, 459, 739, 653, 902, 746, 832])\n",
        "\n",
        "b = (np.mean(x * y) - np.mean(x) * np.mean(y)) / (np.mean(x**2) - np.mean(x) ** 2) # коэффициент b\n",
        "a = np.mean(y) - b * np.mean(x) # коэффициент a\n",
        "\n",
        "print(f'y = {a:.2f} + {b:.2f}x')"
      ],
      "execution_count": null,
      "outputs": [
        {
          "output_type": "stream",
          "name": "stdout",
          "text": [
            "y = 444.18 + 2.62x\n"
          ]
        }
      ]
    },
    {
      "cell_type": "code",
      "metadata": {
        "colab": {
          "base_uri": "https://localhost:8080/"
        },
        "id": "oTAL7etIxx6x",
        "outputId": "46c167db-dc1b-495f-deb8-3fdddb0d2585"
      },
      "source": [
        "# Решение через матрицу\n",
        "# С интерсептом\n",
        "\n",
        "x = np.array([35, 45, 190, 200, 40, 70, 54, 150, 120, 110])\n",
        "y = np.array([401, 574, 874, 919, 459, 739, 653, 902, 746, 832])\n",
        "n = len(x)\n",
        "\n",
        "x_r = x.reshape((10, 1))\n",
        "y_r = y.reshape((10, 1))\n",
        "\n",
        "x_r = np.hstack([np.ones((10, 1)), x_r]) # добавляем столбец единиц для интерсепта\n",
        "coff = np.dot(np.linalg.inv(np.dot(x_r.T, x_r)), x_r.T@y_r) # коэффициенты b и a\n",
        "\n",
        "b = round(coff[1][0], 2)\n",
        "a = round(coff[0][0], 2)\n",
        "\n",
        "y_hat = a + b*x\n",
        "\n",
        "mse = round(sum((y - y_hat)**2)/n, 2)\n",
        "\n",
        "print(f'y_hat = {a} + {b}x\\n')\n",
        "print(f'mse = {mse}')"
      ],
      "execution_count": null,
      "outputs": [
        {
          "output_type": "stream",
          "name": "stdout",
          "text": [
            "y_hat = 444.18 + 2.62x\n",
            "\n",
            "mse = 6470.42\n"
          ]
        }
      ]
    },
    {
      "cell_type": "code",
      "metadata": {
        "colab": {
          "base_uri": "https://localhost:8080/",
          "height": 322
        },
        "id": "SeAKVPDu38co",
        "outputId": "01ebb62e-c6c0-409f-8d15-cda78f3264db"
      },
      "source": [
        "plt.scatter(x, y, c='black')\n",
        "plt.plot(x, y_hat)\n",
        "plt.xlabel('Величина заработной платы \\nзаемщиков банка')\n",
        "plt.ylabel('Значения поведенческого \\nкредитного скоринга')\n",
        "plt.title('График линейной регрессии \\n с интерсептом')\n",
        "plt.show()"
      ],
      "execution_count": null,
      "outputs": [
        {
          "output_type": "display_data",
          "data": {
            "image/png": "[encoded data removed]",
            "text/plain": [
              "<Figure size 432x288 with 1 Axes>"
            ]
          },
          "metadata": {
            "needs_background": "light"
          }
        }
      ]
    },
    {
      "cell_type": "code",
      "metadata": {
        "colab": {
          "base_uri": "https://localhost:8080/"
        },
        "id": "B0ltYJMUykmm",
        "outputId": "fb9660eb-64b4-472e-c505-52a5509b5e6c"
      },
      "source": [
        "# Решение через матрицу\n",
        "# БЕЗ интерсепта\n",
        "\n",
        "x = np.array([35, 45, 190, 200, 40, 70, 54, 150, 120, 110])\n",
        "y = np.array([401, 574, 874, 919, 459, 739, 653, 902, 746, 832])\n",
        "n = len(x)\n",
        "\n",
        "x_r = x.reshape((10, 1))\n",
        "y_r = y.reshape((10, 1))\n",
        "coff = np.dot(np.linalg.inv(np.dot(x_r.T, x_r)), x_r.T@y_r) # коэффициенты b и a\n",
        "\n",
        "b = round(coff[0][0], 2)\n",
        "\n",
        "y_hat_2 = b*x\n",
        "\n",
        "mse = round(sum((y - y_hat_2)**2)/n, 2)\n",
        "\n",
        "print(f'y_hat = {b}x\\n')\n",
        "print(f'mse = {mse}')"
      ],
      "execution_count": null,
      "outputs": [
        {
          "output_type": "stream",
          "name": "stdout",
          "text": [
            "y_hat = 5.89x\n",
            "\n",
            "mse = 56516.86\n"
          ]
        }
      ]
    },
    {
      "cell_type": "code",
      "metadata": {
        "colab": {
          "base_uri": "https://localhost:8080/",
          "height": 322
        },
        "id": "5KvR7lCR5RWI",
        "outputId": "680255c1-c06e-4fa8-8629-aaa782b4f11d"
      },
      "source": [
        "plt.scatter(x, y, c='black')\n",
        "plt.plot(x, y_hat_2)\n",
        "plt.xlabel('Величина заработной платы \\nзаемщиков банка')\n",
        "plt.ylabel('Значения поведенческого \\nкредитного скоринга')\n",
        "plt.title('График линейной регрессии \\nбез интерсепта')\n",
        "plt.show()"
      ],
      "execution_count": null,
      "outputs": [
        {
          "output_type": "display_data",
          "data": {
            "image/png": "[encoded data removed]",
            "text/plain": [
              "<Figure size 432x288 with 1 Axes>"
            ]
          },
          "metadata": {
            "needs_background": "light"
          }
        }
      ]
    },
    {
      "cell_type": "markdown",
      "metadata": {
        "id": "ses7OF-Jdhg9"
      },
      "source": [
        "**2. Посчитать коэффициент линейной регрессии при заработной плате (zp), используя градиентный спуск (без intercept).**"
      ]
    },
    {
      "cell_type": "code",
      "metadata": {
        "colab": {
          "base_uri": "https://localhost:8080/"
        },
        "id": "QHnSKvctABfz",
        "outputId": "68b9e502-bc6f-4c7f-8901-8ebae5bad25f"
      },
      "source": [
        "# Решение через градиентный спуск\n",
        "# БЕЗ интерсепта\n",
        "\n",
        "x = np.array([35, 45, 190, 200, 40, 70, 54, 150, 120, 110])\n",
        "y = np.array([401, 574, 874, 919, 459, 739, 653, 902, 746, 832])\n",
        "n = len(x)\n",
        "alpha = 0.000001 # скорость обучения\n",
        "b1 = 0.1 # стартовое значение\n",
        "\n",
        "# функция расчета среднеквадратичной ошибки\n",
        "def mse_(b1, y=y, x=x, n=n):\n",
        "  return np.sum((b1*x - y)**2)/n\n",
        "\n",
        "# метод градиентного спуска\n",
        "for i in range(2000):\n",
        "  b1 -= alpha*(2/n)*np.sum((b1*x - y)*x) # производная от mse по b1\n",
        "  if i%200 == 0:\n",
        "    print(f'Iteration: {i}, b1 = {b1}, mse= {mse_(b1)}')\n",
        "\n",
        "b1 = round(b1, 2)\n",
        "mse = round(mse_(b1), 2)"
      ],
      "execution_count": null,
      "outputs": [
        {
          "output_type": "stream",
          "name": "stdout",
          "text": [
            "Iteration: 0, b1 = 0.25952808, mse= 493237.7212546963\n",
            "Iteration: 200, b1 = 5.868748638669329, mse= 56522.97550129376\n",
            "Iteration: 400, b1 = 5.8897415574471985, mse= 56516.85850140053\n",
            "Iteration: 600, b1 = 5.889820124983314, mse= 56516.85841572062\n",
            "Iteration: 800, b1 = 5.88982041902807, mse= 56516.8584157194\n",
            "Iteration: 1000, b1 = 5.8898204201285544, mse= 56516.85841571941\n",
            "Iteration: 1200, b1 = 5.889820420132673, mse= 56516.85841571943\n",
            "Iteration: 1400, b1 = 5.889820420132673, mse= 56516.85841571943\n",
            "Iteration: 1600, b1 = 5.889820420132673, mse= 56516.85841571943\n",
            "Iteration: 1800, b1 = 5.889820420132673, mse= 56516.85841571943\n"
          ]
        }
      ]
    },
    {
      "cell_type": "code",
      "metadata": {
        "colab": {
          "base_uri": "https://localhost:8080/"
        },
        "id": "71pPZhnQFiEt",
        "outputId": "5f33f543-f626-4e6b-ebaa-d590cdacb6a1"
      },
      "source": [
        "print(f'y_hat = {b1}x\\n')\n",
        "print(f'mse = {mse}')"
      ],
      "execution_count": null,
      "outputs": [
        {
          "output_type": "stream",
          "name": "stdout",
          "text": [
            "y_hat = 5.89x\n",
            "\n",
            "mse = 56516.86\n"
          ]
        }
      ]
    },
    {
      "cell_type": "markdown",
      "metadata": {
        "id": "yLdrPaZDdkBx"
      },
      "source": [
        "**3. В каких случаях для вычисления доверительных интервалов и проверки статистических гипотез используется таблица значений функции Лапласа, а в каких - таблица критических точек распределения Стьюдента?**"
      ]
    },
    {
      "cell_type": "markdown",
      "metadata": {
        "id": "2-kyNiLiAO1m"
      },
      "source": [
        "Таблица значений функции Лапласа используется, когда мы **знаем** дисперсию или среднюю квадратичную ошибку генеральной совокупности.\n",
        "\n",
        "Таблица критических точек распределения Стьюдента используется, когда мы **не знаем** ни дисперсию ни среднюю квадратичную ошибку генеральной совокупности."
      ]
    },
    {
      "cell_type": "markdown",
      "metadata": {
        "id": "7G30dm__dm_j"
      },
      "source": [
        "**4*. Произвести вычисления как в пункте 2, но с вычислением intercept. Учесть, что изменение коэффициентов должно производиться на каждом шаге одновременно (то есть изменение одного коэффициента не должно влиять на изменение другого во время одной итерации).**"
      ]
    },
    {
      "cell_type": "code",
      "metadata": {
        "colab": {
          "base_uri": "https://localhost:8080/"
        },
        "id": "QVdMfcIbDajJ",
        "outputId": "09f8478f-b0b6-4a26-b7f2-e45109403fa3"
      },
      "source": [
        "# Решение через градиентный спуск\n",
        "# С интерсептом\n",
        "\n",
        "x = np.array([35, 45, 190, 200, 40, 70, 54, 150, 120, 110])\n",
        "y = np.array([401, 574, 874, 919, 459, 739, 653, 902, 746, 832])\n",
        "n = len(x)\n",
        "alpha = 0.000001 # скорость обучения\n",
        "b1 = 0.1 # стартовое значение\n",
        "b0 = 0.1\n",
        "\n",
        "# функция расчета среднеквадратичной ошибки\n",
        "def mse_(b1, b0, y=y, x=x, n=n):\n",
        "  return np.sum(((b0 + b1*x) - y)**2)/n\n",
        "\n",
        "# метод градиентного спуска\n",
        "for i in range(5000):\n",
        "  b1 -= alpha*(2/n)*np.sum((b0 + b1*x - y)*x) # производная от mse по b1\n",
        "  b0 -= (2/n)*np.sum(b0 + b1*x - y) # производная от mse по b0\n",
        "  if i%500 == 0:\n",
        "    print(f'Iteration: {i}, b0 = {b0} b1 = {b1}, mse= {mse_(b1, b0)}')\n",
        "\n",
        "b1 = round(b1, 2)\n",
        "b0 = round(b0, 2)\n",
        "mse = round(mse_(b1, b0), 2)"
      ],
      "execution_count": 50,
      "outputs": [
        {
          "output_type": "stream",
          "name": "stdout",
          "text": [
            "Iteration: 0, b0 = 1367.07181816 b1 = 0.2595078, mse= 493104.16016708425\n",
            "Iteration: 500, b0 = 451.29950391665705 b1 = 2.5502517245170035, mse= 6487.678741937202\n",
            "Iteration: 1000, b0 = 444.38267170216244 b1 = 2.618506891167808, mse= 6470.428631036828\n",
            "Iteration: 1500, b0 = 444.18329273921927 b1 = 2.6204801395792807, mse= 6470.414213236121\n",
            "Iteration: 2000, b0 = 444.1775289112296 b1 = 2.6205371842068543, mse= 6470.414201186734\n",
            "Iteration: 2500, b0 = 444.17736228476343 b1 = 2.6205388333096304, mse= 6470.414201176669\n",
            "Iteration: 3000, b0 = 444.17735746775986 b1 = 2.6205388809835326, mse= 6470.414201176657\n",
            "Iteration: 3500, b0 = 444.1773573285053 b1 = 2.620538882361735, mse= 6470.414201176655\n",
            "Iteration: 4000, b0 = 444.1773573244796 b1 = 2.6205388824015787, mse= 6470.414201176658\n",
            "Iteration: 4500, b0 = 444.1773573243628 b1 = 2.6205388824027342, mse= 6470.41420117666\n"
          ]
        }
      ]
    },
    {
      "cell_type": "code",
      "metadata": {
        "colab": {
          "base_uri": "https://localhost:8080/"
        },
        "id": "GS7xOoxeDb5u",
        "outputId": "fc65de06-29c7-43b0-b698-bcc2be0dfb7b"
      },
      "source": [
        "print(f'y_hat = {b0} + {b1}x\\n')\n",
        "print(f'mse = {mse}')"
      ],
      "execution_count": 51,
      "outputs": [
        {
          "output_type": "stream",
          "name": "stdout",
          "text": [
            "y_hat = 444.18 + 2.62x\n",
            "\n",
            "mse = 6470.42\n"
          ]
        }
      ]
    }
  ]
}