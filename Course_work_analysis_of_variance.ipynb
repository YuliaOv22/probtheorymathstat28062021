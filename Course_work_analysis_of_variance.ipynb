{
  "nbformat": 4,
  "nbformat_minor": 0,
  "metadata": {
    "colab": {
      "name": "Курсовой проект.ipynb",
      "provenance": []
    },
    "kernelspec": {
      "name": "python3",
      "display_name": "Python 3"
    },
    "language_info": {
      "name": "python"
    }
  },
  "cells": [
    {
      "cell_type": "code",
      "metadata": {
        "id": "iGvWCnDOXy1n"
      },
      "source": [
        "import numpy as np\n",
        "import pandas as pd\n",
        "import scipy.stats as stats\n",
        "import math\n",
        "import seaborn as sns\n",
        "import pylab\n",
        "import plotnine as pn\n",
        "import matplotlib.pyplot as plt\n",
        "%matplotlib inline"
      ],
      "execution_count": 72,
      "outputs": []
    },
    {
      "cell_type": "markdown",
      "metadata": {
        "id": "W88fIe-wQDxc"
      },
      "source": [
        "## **Однофакторный дисперсионный анализ**"
      ]
    },
    {
      "cell_type": "markdown",
      "metadata": {
        "id": "TLCS4fx8A6B5"
      },
      "source": [
        "Для проведения однофакторного дисперсионного анализа был взят датасет под названием [Video Game Sales with Ratings](https://www.kaggle.com/rush4ratio/video-game-sales-with-ratings). \n",
        "\n",
        "В датасете имеются следующие поля:\n",
        "\n",
        "* Name\n",
        "* Platform\n",
        "* YearofRelease\n",
        "* Genre\n",
        "* Publisher\n",
        "* NASales\n",
        "* EUSales\n",
        "* JPSales\n",
        "* OtherSales\n",
        "* Global_Sales\n",
        "* Critic_score - Aggregate score compiled by Metacritic staff\n",
        "* Criticcount - The number of critics used in coming up with the Criticscore\n",
        "* User_score - Score by Metacritic's subscribers\n",
        "* Usercount - Number of users who gave the userscore\n",
        "* Developer - Party responsible for creating the game\n",
        "* Rating - The ESRB ratings\n",
        "\n",
        "Исходя из представленных данных можно проанализировать, влияет ли жанр на продажи видеоигр. Для анализа возьмем данные продаж по всему миру - **Global_Sales**."
      ]
    },
    {
      "cell_type": "code",
      "metadata": {
        "id": "fQ-TKB8ZgghE"
      },
      "source": [
        "# Загрузим датасет\n",
        "\n",
        "df = pd.read_csv(\"/content/Video_Games_Sales_as_at_22_Dec_2016.csv\")"
      ],
      "execution_count": 73,
      "outputs": []
    },
    {
      "cell_type": "code",
      "metadata": {
        "colab": {
          "base_uri": "https://localhost:8080/",
          "height": 290
        },
        "id": "jahhIh1giP83",
        "outputId": "b7ba4233-32a2-4283-f1ec-e0d18f4320d0"
      },
      "source": [
        "# Просмотрим датасет\n",
        "\n",
        "df.head()"
      ],
      "execution_count": 74,
      "outputs": [
        {
          "output_type": "execute_result",
          "data": {
            "text/html": [
              "<div>\n",
              "<style scoped>\n",
              "    .dataframe tbody tr th:only-of-type {\n",
              "        vertical-align: middle;\n",
              "    }\n",
              "\n",
              "    .dataframe tbody tr th {\n",
              "        vertical-align: top;\n",
              "    }\n",
              "\n",
              "    .dataframe thead th {\n",
              "        text-align: right;\n",
              "    }\n",
              "</style>\n",
              "<table border=\"1\" class=\"dataframe\">\n",
              "  <thead>\n",
              "    <tr style=\"text-align: right;\">\n",
              "      <th></th>\n",
              "      <th>Name</th>\n",
              "      <th>Platform</th>\n",
              "      <th>Year_of_Release</th>\n",
              "      <th>Genre</th>\n",
              "      <th>Publisher</th>\n",
              "      <th>NA_Sales</th>\n",
              "      <th>EU_Sales</th>\n",
              "      <th>JP_Sales</th>\n",
              "      <th>Other_Sales</th>\n",
              "      <th>Global_Sales</th>\n",
              "      <th>Critic_Score</th>\n",
              "      <th>Critic_Count</th>\n",
              "      <th>User_Score</th>\n",
              "      <th>User_Count</th>\n",
              "      <th>Developer</th>\n",
              "      <th>Rating</th>\n",
              "    </tr>\n",
              "  </thead>\n",
              "  <tbody>\n",
              "    <tr>\n",
              "      <th>0</th>\n",
              "      <td>Wii Sports</td>\n",
              "      <td>Wii</td>\n",
              "      <td>2006.0</td>\n",
              "      <td>Sports</td>\n",
              "      <td>Nintendo</td>\n",
              "      <td>41.36</td>\n",
              "      <td>28.96</td>\n",
              "      <td>3.77</td>\n",
              "      <td>8.45</td>\n",
              "      <td>82.53</td>\n",
              "      <td>76.0</td>\n",
              "      <td>51.0</td>\n",
              "      <td>8</td>\n",
              "      <td>322.0</td>\n",
              "      <td>Nintendo</td>\n",
              "      <td>E</td>\n",
              "    </tr>\n",
              "    <tr>\n",
              "      <th>1</th>\n",
              "      <td>Super Mario Bros.</td>\n",
              "      <td>NES</td>\n",
              "      <td>1985.0</td>\n",
              "      <td>Platform</td>\n",
              "      <td>Nintendo</td>\n",
              "      <td>29.08</td>\n",
              "      <td>3.58</td>\n",
              "      <td>6.81</td>\n",
              "      <td>0.77</td>\n",
              "      <td>40.24</td>\n",
              "      <td>NaN</td>\n",
              "      <td>NaN</td>\n",
              "      <td>NaN</td>\n",
              "      <td>NaN</td>\n",
              "      <td>NaN</td>\n",
              "      <td>NaN</td>\n",
              "    </tr>\n",
              "    <tr>\n",
              "      <th>2</th>\n",
              "      <td>Mario Kart Wii</td>\n",
              "      <td>Wii</td>\n",
              "      <td>2008.0</td>\n",
              "      <td>Racing</td>\n",
              "      <td>Nintendo</td>\n",
              "      <td>15.68</td>\n",
              "      <td>12.76</td>\n",
              "      <td>3.79</td>\n",
              "      <td>3.29</td>\n",
              "      <td>35.52</td>\n",
              "      <td>82.0</td>\n",
              "      <td>73.0</td>\n",
              "      <td>8.3</td>\n",
              "      <td>709.0</td>\n",
              "      <td>Nintendo</td>\n",
              "      <td>E</td>\n",
              "    </tr>\n",
              "    <tr>\n",
              "      <th>3</th>\n",
              "      <td>Wii Sports Resort</td>\n",
              "      <td>Wii</td>\n",
              "      <td>2009.0</td>\n",
              "      <td>Sports</td>\n",
              "      <td>Nintendo</td>\n",
              "      <td>15.61</td>\n",
              "      <td>10.93</td>\n",
              "      <td>3.28</td>\n",
              "      <td>2.95</td>\n",
              "      <td>32.77</td>\n",
              "      <td>80.0</td>\n",
              "      <td>73.0</td>\n",
              "      <td>8</td>\n",
              "      <td>192.0</td>\n",
              "      <td>Nintendo</td>\n",
              "      <td>E</td>\n",
              "    </tr>\n",
              "    <tr>\n",
              "      <th>4</th>\n",
              "      <td>Pokemon Red/Pokemon Blue</td>\n",
              "      <td>GB</td>\n",
              "      <td>1996.0</td>\n",
              "      <td>Role-Playing</td>\n",
              "      <td>Nintendo</td>\n",
              "      <td>11.27</td>\n",
              "      <td>8.89</td>\n",
              "      <td>10.22</td>\n",
              "      <td>1.00</td>\n",
              "      <td>31.37</td>\n",
              "      <td>NaN</td>\n",
              "      <td>NaN</td>\n",
              "      <td>NaN</td>\n",
              "      <td>NaN</td>\n",
              "      <td>NaN</td>\n",
              "      <td>NaN</td>\n",
              "    </tr>\n",
              "  </tbody>\n",
              "</table>\n",
              "</div>"
            ],
            "text/plain": [
              "                       Name Platform  ...  Developer Rating\n",
              "0                Wii Sports      Wii  ...   Nintendo      E\n",
              "1         Super Mario Bros.      NES  ...        NaN    NaN\n",
              "2            Mario Kart Wii      Wii  ...   Nintendo      E\n",
              "3         Wii Sports Resort      Wii  ...   Nintendo      E\n",
              "4  Pokemon Red/Pokemon Blue       GB  ...        NaN    NaN\n",
              "\n",
              "[5 rows x 16 columns]"
            ]
          },
          "metadata": {},
          "execution_count": 74
        }
      ]
    },
    {
      "cell_type": "code",
      "metadata": {
        "colab": {
          "base_uri": "https://localhost:8080/",
          "height": 295
        },
        "id": "GdZ5fBoGMxIw",
        "outputId": "bc41f3cb-d796-43fd-c3d3-5530cb3d004c"
      },
      "source": [
        "# Просмотрим значения описательной статистики\n",
        "\n",
        "df.describe()"
      ],
      "execution_count": 75,
      "outputs": [
        {
          "output_type": "execute_result",
          "data": {
            "text/html": [
              "<div>\n",
              "<style scoped>\n",
              "    .dataframe tbody tr th:only-of-type {\n",
              "        vertical-align: middle;\n",
              "    }\n",
              "\n",
              "    .dataframe tbody tr th {\n",
              "        vertical-align: top;\n",
              "    }\n",
              "\n",
              "    .dataframe thead th {\n",
              "        text-align: right;\n",
              "    }\n",
              "</style>\n",
              "<table border=\"1\" class=\"dataframe\">\n",
              "  <thead>\n",
              "    <tr style=\"text-align: right;\">\n",
              "      <th></th>\n",
              "      <th>Year_of_Release</th>\n",
              "      <th>NA_Sales</th>\n",
              "      <th>EU_Sales</th>\n",
              "      <th>JP_Sales</th>\n",
              "      <th>Other_Sales</th>\n",
              "      <th>Global_Sales</th>\n",
              "      <th>Critic_Score</th>\n",
              "      <th>Critic_Count</th>\n",
              "      <th>User_Count</th>\n",
              "    </tr>\n",
              "  </thead>\n",
              "  <tbody>\n",
              "    <tr>\n",
              "      <th>count</th>\n",
              "      <td>16450.000000</td>\n",
              "      <td>16719.000000</td>\n",
              "      <td>16719.000000</td>\n",
              "      <td>16719.000000</td>\n",
              "      <td>16719.000000</td>\n",
              "      <td>16719.000000</td>\n",
              "      <td>8137.000000</td>\n",
              "      <td>8137.000000</td>\n",
              "      <td>7590.000000</td>\n",
              "    </tr>\n",
              "    <tr>\n",
              "      <th>mean</th>\n",
              "      <td>2006.487356</td>\n",
              "      <td>0.263330</td>\n",
              "      <td>0.145025</td>\n",
              "      <td>0.077602</td>\n",
              "      <td>0.047332</td>\n",
              "      <td>0.533543</td>\n",
              "      <td>68.967679</td>\n",
              "      <td>26.360821</td>\n",
              "      <td>162.229908</td>\n",
              "    </tr>\n",
              "    <tr>\n",
              "      <th>std</th>\n",
              "      <td>5.878995</td>\n",
              "      <td>0.813514</td>\n",
              "      <td>0.503283</td>\n",
              "      <td>0.308818</td>\n",
              "      <td>0.186710</td>\n",
              "      <td>1.547935</td>\n",
              "      <td>13.938165</td>\n",
              "      <td>18.980495</td>\n",
              "      <td>561.282326</td>\n",
              "    </tr>\n",
              "    <tr>\n",
              "      <th>min</th>\n",
              "      <td>1980.000000</td>\n",
              "      <td>0.000000</td>\n",
              "      <td>0.000000</td>\n",
              "      <td>0.000000</td>\n",
              "      <td>0.000000</td>\n",
              "      <td>0.010000</td>\n",
              "      <td>13.000000</td>\n",
              "      <td>3.000000</td>\n",
              "      <td>4.000000</td>\n",
              "    </tr>\n",
              "    <tr>\n",
              "      <th>25%</th>\n",
              "      <td>2003.000000</td>\n",
              "      <td>0.000000</td>\n",
              "      <td>0.000000</td>\n",
              "      <td>0.000000</td>\n",
              "      <td>0.000000</td>\n",
              "      <td>0.060000</td>\n",
              "      <td>60.000000</td>\n",
              "      <td>12.000000</td>\n",
              "      <td>10.000000</td>\n",
              "    </tr>\n",
              "    <tr>\n",
              "      <th>50%</th>\n",
              "      <td>2007.000000</td>\n",
              "      <td>0.080000</td>\n",
              "      <td>0.020000</td>\n",
              "      <td>0.000000</td>\n",
              "      <td>0.010000</td>\n",
              "      <td>0.170000</td>\n",
              "      <td>71.000000</td>\n",
              "      <td>21.000000</td>\n",
              "      <td>24.000000</td>\n",
              "    </tr>\n",
              "    <tr>\n",
              "      <th>75%</th>\n",
              "      <td>2010.000000</td>\n",
              "      <td>0.240000</td>\n",
              "      <td>0.110000</td>\n",
              "      <td>0.040000</td>\n",
              "      <td>0.030000</td>\n",
              "      <td>0.470000</td>\n",
              "      <td>79.000000</td>\n",
              "      <td>36.000000</td>\n",
              "      <td>81.000000</td>\n",
              "    </tr>\n",
              "    <tr>\n",
              "      <th>max</th>\n",
              "      <td>2020.000000</td>\n",
              "      <td>41.360000</td>\n",
              "      <td>28.960000</td>\n",
              "      <td>10.220000</td>\n",
              "      <td>10.570000</td>\n",
              "      <td>82.530000</td>\n",
              "      <td>98.000000</td>\n",
              "      <td>113.000000</td>\n",
              "      <td>10665.000000</td>\n",
              "    </tr>\n",
              "  </tbody>\n",
              "</table>\n",
              "</div>"
            ],
            "text/plain": [
              "       Year_of_Release      NA_Sales  ...  Critic_Count    User_Count\n",
              "count     16450.000000  16719.000000  ...   8137.000000   7590.000000\n",
              "mean       2006.487356      0.263330  ...     26.360821    162.229908\n",
              "std           5.878995      0.813514  ...     18.980495    561.282326\n",
              "min        1980.000000      0.000000  ...      3.000000      4.000000\n",
              "25%        2003.000000      0.000000  ...     12.000000     10.000000\n",
              "50%        2007.000000      0.080000  ...     21.000000     24.000000\n",
              "75%        2010.000000      0.240000  ...     36.000000     81.000000\n",
              "max        2020.000000     41.360000  ...    113.000000  10665.000000\n",
              "\n",
              "[8 rows x 9 columns]"
            ]
          },
          "metadata": {},
          "execution_count": 75
        }
      ]
    },
    {
      "cell_type": "markdown",
      "metadata": {
        "id": "qzLQzy0-T32K"
      },
      "source": [
        "Значения описательной статистики представлены только по числовым признакам. Мы можем увидеть, что количество измерений по всем играм равно **16719**. \n",
        "\n",
        "В признаке **Global_Sales** пропуски отсутствуют. \n",
        "\n",
        "Среднее арифметическое значение равно **0.53**. \n",
        "\n",
        "Среднее квадратическое отклонение равно **1.54**.\n",
        "\n",
        "Среди значений присутствуют выбрасы, так как максимальное значение равно **82.53**, притом что 75% значений ниже **0.47**.\n",
        "\n"
      ]
    },
    {
      "cell_type": "code",
      "metadata": {
        "id": "RNK3V_cVChh7",
        "colab": {
          "base_uri": "https://localhost:8080/",
          "height": 203
        },
        "outputId": "d68a93d5-50b9-4689-803f-1947af7e5619"
      },
      "source": [
        "# Создадим датафрейм с жанрами, выпускающими компаниями и продажами по всему миру\n",
        "\n",
        "gps = df[['Genre', 'Publisher',\t'Global_Sales']].copy()\n",
        "gps.head()"
      ],
      "execution_count": 76,
      "outputs": [
        {
          "output_type": "execute_result",
          "data": {
            "text/html": [
              "<div>\n",
              "<style scoped>\n",
              "    .dataframe tbody tr th:only-of-type {\n",
              "        vertical-align: middle;\n",
              "    }\n",
              "\n",
              "    .dataframe tbody tr th {\n",
              "        vertical-align: top;\n",
              "    }\n",
              "\n",
              "    .dataframe thead th {\n",
              "        text-align: right;\n",
              "    }\n",
              "</style>\n",
              "<table border=\"1\" class=\"dataframe\">\n",
              "  <thead>\n",
              "    <tr style=\"text-align: right;\">\n",
              "      <th></th>\n",
              "      <th>Genre</th>\n",
              "      <th>Publisher</th>\n",
              "      <th>Global_Sales</th>\n",
              "    </tr>\n",
              "  </thead>\n",
              "  <tbody>\n",
              "    <tr>\n",
              "      <th>0</th>\n",
              "      <td>Sports</td>\n",
              "      <td>Nintendo</td>\n",
              "      <td>82.53</td>\n",
              "    </tr>\n",
              "    <tr>\n",
              "      <th>1</th>\n",
              "      <td>Platform</td>\n",
              "      <td>Nintendo</td>\n",
              "      <td>40.24</td>\n",
              "    </tr>\n",
              "    <tr>\n",
              "      <th>2</th>\n",
              "      <td>Racing</td>\n",
              "      <td>Nintendo</td>\n",
              "      <td>35.52</td>\n",
              "    </tr>\n",
              "    <tr>\n",
              "      <th>3</th>\n",
              "      <td>Sports</td>\n",
              "      <td>Nintendo</td>\n",
              "      <td>32.77</td>\n",
              "    </tr>\n",
              "    <tr>\n",
              "      <th>4</th>\n",
              "      <td>Role-Playing</td>\n",
              "      <td>Nintendo</td>\n",
              "      <td>31.37</td>\n",
              "    </tr>\n",
              "  </tbody>\n",
              "</table>\n",
              "</div>"
            ],
            "text/plain": [
              "          Genre Publisher  Global_Sales\n",
              "0        Sports  Nintendo         82.53\n",
              "1      Platform  Nintendo         40.24\n",
              "2        Racing  Nintendo         35.52\n",
              "3        Sports  Nintendo         32.77\n",
              "4  Role-Playing  Nintendo         31.37"
            ]
          },
          "metadata": {},
          "execution_count": 76
        }
      ]
    },
    {
      "cell_type": "code",
      "metadata": {
        "colab": {
          "base_uri": "https://localhost:8080/"
        },
        "id": "DJu4HrQnid4J",
        "outputId": "68b23ce5-d5f3-4343-82e2-9a3eb74642d2"
      },
      "source": [
        "# Посчитаем пропуски\n",
        "\n",
        "gps.isna().sum()"
      ],
      "execution_count": 77,
      "outputs": [
        {
          "output_type": "execute_result",
          "data": {
            "text/plain": [
              "Genre            2\n",
              "Publisher       54\n",
              "Global_Sales     0\n",
              "dtype: int64"
            ]
          },
          "metadata": {},
          "execution_count": 77
        }
      ]
    },
    {
      "cell_type": "code",
      "metadata": {
        "colab": {
          "base_uri": "https://localhost:8080/",
          "height": 110
        },
        "id": "YvcwkbZ0i16F",
        "outputId": "45638a28-9a9e-4bd7-b5bd-afddfedcb9c2"
      },
      "source": [
        "# Посмотрим, к какой выпускающей компании принадлежат пропуски по жанрам\n",
        "\n",
        "gps.loc[gps['Genre'].isnull()]"
      ],
      "execution_count": 78,
      "outputs": [
        {
          "output_type": "execute_result",
          "data": {
            "text/html": [
              "<div>\n",
              "<style scoped>\n",
              "    .dataframe tbody tr th:only-of-type {\n",
              "        vertical-align: middle;\n",
              "    }\n",
              "\n",
              "    .dataframe tbody tr th {\n",
              "        vertical-align: top;\n",
              "    }\n",
              "\n",
              "    .dataframe thead th {\n",
              "        text-align: right;\n",
              "    }\n",
              "</style>\n",
              "<table border=\"1\" class=\"dataframe\">\n",
              "  <thead>\n",
              "    <tr style=\"text-align: right;\">\n",
              "      <th></th>\n",
              "      <th>Genre</th>\n",
              "      <th>Publisher</th>\n",
              "      <th>Global_Sales</th>\n",
              "    </tr>\n",
              "  </thead>\n",
              "  <tbody>\n",
              "    <tr>\n",
              "      <th>659</th>\n",
              "      <td>NaN</td>\n",
              "      <td>Acclaim Entertainment</td>\n",
              "      <td>2.39</td>\n",
              "    </tr>\n",
              "    <tr>\n",
              "      <th>14246</th>\n",
              "      <td>NaN</td>\n",
              "      <td>Acclaim Entertainment</td>\n",
              "      <td>0.03</td>\n",
              "    </tr>\n",
              "  </tbody>\n",
              "</table>\n",
              "</div>"
            ],
            "text/plain": [
              "      Genre              Publisher  Global_Sales\n",
              "659     NaN  Acclaim Entertainment          2.39\n",
              "14246   NaN  Acclaim Entertainment          0.03"
            ]
          },
          "metadata": {},
          "execution_count": 78
        }
      ]
    },
    {
      "cell_type": "code",
      "metadata": {
        "colab": {
          "base_uri": "https://localhost:8080/"
        },
        "id": "2K7BDP4x2NLt",
        "outputId": "0243b7ab-9180-48cb-dd5d-3eb8e033b6de"
      },
      "source": [
        "# Самым частым жанром для компании Acclaim Entertainment является Sports\n",
        "\n",
        "gps.loc[gps['Publisher'] == 'Acclaim Entertainment']['Genre'].value_counts()"
      ],
      "execution_count": 79,
      "outputs": [
        {
          "output_type": "execute_result",
          "data": {
            "text/plain": [
              "Sports          52\n",
              "Racing          44\n",
              "Fighting        31\n",
              "Shooter         17\n",
              "Action          14\n",
              "Puzzle           9\n",
              "Platform         5\n",
              "Misc             5\n",
              "Adventure        4\n",
              "Strategy         2\n",
              "Role-Playing     1\n",
              "Name: Genre, dtype: int64"
            ]
          },
          "metadata": {},
          "execution_count": 79
        }
      ]
    },
    {
      "cell_type": "code",
      "metadata": {
        "id": "JHdM24x7_lra"
      },
      "source": [
        "# Заменим пропуски в жанре на Sports\n",
        "\n",
        "gps.loc[gps['Genre'].isnull(), 'Genre'] = 'Sports'"
      ],
      "execution_count": 80,
      "outputs": []
    },
    {
      "cell_type": "code",
      "metadata": {
        "colab": {
          "base_uri": "https://localhost:8080/"
        },
        "id": "SucVJ-dN9qX5",
        "outputId": "6e5feded-b5ce-431e-9944-b908ae037d07"
      },
      "source": [
        "# Проверим, что пропуски заполнены\n",
        "\n",
        "gps.isna().sum()"
      ],
      "execution_count": 81,
      "outputs": [
        {
          "output_type": "execute_result",
          "data": {
            "text/plain": [
              "Genre            0\n",
              "Publisher       54\n",
              "Global_Sales     0\n",
              "dtype: int64"
            ]
          },
          "metadata": {},
          "execution_count": 81
        }
      ]
    },
    {
      "cell_type": "code",
      "metadata": {
        "colab": {
          "base_uri": "https://localhost:8080/"
        },
        "id": "z_aAcFi0FMze",
        "outputId": "6a6fec17-4563-4e62-81bf-e2575a50506a"
      },
      "source": [
        "# Посчитаем количество жанров всего\n",
        "\n",
        "genre_list = list(set(gps['Genre']))\n",
        "len(genre_list)"
      ],
      "execution_count": 82,
      "outputs": [
        {
          "output_type": "execute_result",
          "data": {
            "text/plain": [
              "12"
            ]
          },
          "metadata": {},
          "execution_count": 82
        }
      ]
    },
    {
      "cell_type": "code",
      "metadata": {
        "colab": {
          "base_uri": "https://localhost:8080/"
        },
        "id": "UWSdvf3rS7sZ",
        "outputId": "b7e9d148-ffaf-4728-b98e-b098d42fc64f"
      },
      "source": [
        "# Посмотрим количество измерений по жанрам\n",
        "\n",
        "gps['Genre'].value_counts()"
      ],
      "execution_count": 83,
      "outputs": [
        {
          "output_type": "execute_result",
          "data": {
            "text/plain": [
              "Action          3370\n",
              "Sports          2350\n",
              "Misc            1750\n",
              "Role-Playing    1500\n",
              "Shooter         1323\n",
              "Adventure       1303\n",
              "Racing          1249\n",
              "Platform         888\n",
              "Simulation       874\n",
              "Fighting         849\n",
              "Strategy         683\n",
              "Puzzle           580\n",
              "Name: Genre, dtype: int64"
            ]
          },
          "metadata": {},
          "execution_count": 83
        }
      ]
    },
    {
      "cell_type": "markdown",
      "metadata": {
        "id": "e7n0RoBTNL2x"
      },
      "source": [
        "### **Проверка условий для дисперсионного анализа:**\n",
        "\n",
        "1. Одинаковое количество измерений.\n",
        "2. Выборки независимы.\n",
        "3. Значения следуют нормальному распределению.\n",
        "4. Дисперсии однородны."
      ]
    },
    {
      "cell_type": "markdown",
      "metadata": {
        "id": "tBfm_qK0Yua4"
      },
      "source": [
        "### **1. Определение количества измерений.**\n",
        "\n",
        "Возьмем наименьшее количество измерений среди жанров, в данном случае это жанр Puzzle $\\textbf{(n = 580)}$.\n",
        "\n",
        "Сформируем выборки по остальным жанрам."
      ]
    },
    {
      "cell_type": "code",
      "metadata": {
        "colab": {
          "base_uri": "https://localhost:8080/",
          "height": 203
        },
        "id": "vSQJmAN6S4Hq",
        "outputId": "35fbaa2c-a0ec-4347-e494-f70936f557a2"
      },
      "source": [
        "# Выберем случайным образом измерения по всем жанрам, n=580\n",
        "\n",
        "gps_genre_sample = pd.DataFrame(columns=['Genre',\t'Publisher',\t'Global_Sales'])\n",
        "for item in range(len(genre_list)):\n",
        "  gps_genre_sample = gps_genre_sample.append(gps.loc[gps['Genre'] == genre_list[item]].sample(n=580, random_state=1))\n",
        "\n",
        "gps_genre_sample.head()"
      ],
      "execution_count": 94,
      "outputs": [
        {
          "output_type": "execute_result",
          "data": {
            "text/html": [
              "<div>\n",
              "<style scoped>\n",
              "    .dataframe tbody tr th:only-of-type {\n",
              "        vertical-align: middle;\n",
              "    }\n",
              "\n",
              "    .dataframe tbody tr th {\n",
              "        vertical-align: top;\n",
              "    }\n",
              "\n",
              "    .dataframe thead th {\n",
              "        text-align: right;\n",
              "    }\n",
              "</style>\n",
              "<table border=\"1\" class=\"dataframe\">\n",
              "  <thead>\n",
              "    <tr style=\"text-align: right;\">\n",
              "      <th></th>\n",
              "      <th>Genre</th>\n",
              "      <th>Publisher</th>\n",
              "      <th>Global_Sales</th>\n",
              "    </tr>\n",
              "  </thead>\n",
              "  <tbody>\n",
              "    <tr>\n",
              "      <th>12503</th>\n",
              "      <td>Strategy</td>\n",
              "      <td>Namco Bandai Games</td>\n",
              "      <td>0.06</td>\n",
              "    </tr>\n",
              "    <tr>\n",
              "      <th>1597</th>\n",
              "      <td>Strategy</td>\n",
              "      <td>Atari</td>\n",
              "      <td>1.25</td>\n",
              "    </tr>\n",
              "    <tr>\n",
              "      <th>6829</th>\n",
              "      <td>Strategy</td>\n",
              "      <td>Sega</td>\n",
              "      <td>0.24</td>\n",
              "    </tr>\n",
              "    <tr>\n",
              "      <th>2829</th>\n",
              "      <td>Strategy</td>\n",
              "      <td>Sega</td>\n",
              "      <td>0.72</td>\n",
              "    </tr>\n",
              "    <tr>\n",
              "      <th>11158</th>\n",
              "      <td>Strategy</td>\n",
              "      <td>Tecmo Koei</td>\n",
              "      <td>0.09</td>\n",
              "    </tr>\n",
              "  </tbody>\n",
              "</table>\n",
              "</div>"
            ],
            "text/plain": [
              "          Genre           Publisher  Global_Sales\n",
              "12503  Strategy  Namco Bandai Games          0.06\n",
              "1597   Strategy               Atari          1.25\n",
              "6829   Strategy                Sega          0.24\n",
              "2829   Strategy                Sega          0.72\n",
              "11158  Strategy          Tecmo Koei          0.09"
            ]
          },
          "metadata": {},
          "execution_count": 94
        }
      ]
    },
    {
      "cell_type": "code",
      "metadata": {
        "id": "AE78Oz2cSMrR"
      },
      "source": [
        "# Функция для извлечения данных продаж по жанрам, возвращяет словарь\n",
        "\n",
        "def sales_by_genre(dataframe, genre_list):\n",
        "  sales_by_genre_dict = {}\n",
        "  for item in range(len(genre_list)):\n",
        "    sales_by_genre_dict[genre_list[item]] = list(gps_genre_sample.loc[dataframe['Genre'] == genre_list[item]]['Global_Sales'])\n",
        "  return sales_by_genre_dict"
      ],
      "execution_count": 100,
      "outputs": []
    },
    {
      "cell_type": "code",
      "metadata": {
        "colab": {
          "base_uri": "https://localhost:8080/"
        },
        "id": "hZ_VFitFVrnf",
        "outputId": "07dc1c02-4f4f-4bea-fdf5-62a94cc69ee0"
      },
      "source": [
        "# Просмотрим ключи-жанры\n",
        "\n",
        "sales_by_genre(gps, genre_list).keys()"
      ],
      "execution_count": 102,
      "outputs": [
        {
          "output_type": "execute_result",
          "data": {
            "text/plain": [
              "dict_keys(['Strategy', 'Role-Playing', 'Puzzle', 'Shooter', 'Simulation', 'Sports', 'Racing', 'Action', 'Adventure', 'Misc', 'Platform', 'Fighting'])"
            ]
          },
          "metadata": {},
          "execution_count": 102
        }
      ]
    },
    {
      "cell_type": "code",
      "metadata": {
        "colab": {
          "base_uri": "https://localhost:8080/"
        },
        "id": "M173_zOs-JYL",
        "outputId": "cfdcb6c7-d3d2-4c8f-b32a-56f557ec0aa1"
      },
      "source": [
        "# Проверим, что количество измерений в выборках одинаковое\n",
        "\n",
        "for item in range(len(genre_list)):\n",
        "    print(len(sales_by_genre(gps, genre_list).get(genre_list[item])))"
      ],
      "execution_count": 104,
      "outputs": [
        {
          "output_type": "stream",
          "name": "stdout",
          "text": [
            "580\n",
            "580\n",
            "580\n",
            "580\n",
            "580\n",
            "580\n",
            "580\n",
            "580\n",
            "580\n",
            "580\n",
            "580\n",
            "580\n"
          ]
        }
      ]
    },
    {
      "cell_type": "markdown",
      "metadata": {
        "id": "jbxmrwBVZDTN"
      },
      "source": [
        "### **2. Проверка на независимость выборок.**\n",
        "\n",
        "Выборки являются **независимыми**, так как относятся к различным измерениям для одной групповой переменной (жанры), следовательно закономерное и однозначное соответствие между выборками невозможно."
      ]
    },
    {
      "cell_type": "markdown",
      "metadata": {
        "id": "Vs2s1KZ_zFOQ"
      },
      "source": [
        "### **3. Проверка на нормальность распределения значений в выборках.**\n",
        "\n",
        "Проверим данные подгрупп на нормальность распределения. Составим гипотизы.\n",
        "\n",
        "$H0$: Распределение нормальное.\n",
        "\n",
        "$H1$: Распределение не соответствует нормальному.\n",
        "\n",
        "Воспользуемся критерием Шапиро-Уилка. Статистическую значимость возьмем $\\textbf{0.05}$."
      ]
    },
    {
      "cell_type": "code",
      "metadata": {
        "colab": {
          "base_uri": "https://localhost:8080/"
        },
        "id": "x03L5Sotac97",
        "outputId": "916e14de-8a62-45b6-ab7f-1fc2e0dc139a"
      },
      "source": [
        "# Проверим гипотизу H0\n",
        "\n",
        "alpha = 0.05\n",
        "gps_genre_p = []\n",
        "print('Гипотеза H0: 0\\nГипотеза H1: 1\\n')\n",
        "for item in range(len(genre_list)):\n",
        "  p = stats.shapiro(sales_by_genre(gps, genre_list).get(genre_list[item]))[1]\n",
        "  gps_genre_p.append(p)\n",
        "  if p > alpha:\n",
        "    print(f'0: {genre_list[item]}')\n",
        "  else:\n",
        "    print(f'1: {genre_list[item]}')"
      ],
      "execution_count": 105,
      "outputs": [
        {
          "output_type": "stream",
          "name": "stdout",
          "text": [
            "Гипотеза H0: 0\n",
            "Гипотеза H1: 1\n",
            "\n",
            "1: Strategy\n",
            "1: Role-Playing\n",
            "1: Puzzle\n",
            "1: Shooter\n",
            "1: Simulation\n",
            "1: Sports\n",
            "1: Racing\n",
            "1: Action\n",
            "1: Adventure\n",
            "1: Misc\n",
            "1: Platform\n",
            "1: Fighting\n"
          ]
        }
      ]
    },
    {
      "cell_type": "code",
      "metadata": {
        "colab": {
          "base_uri": "https://localhost:8080/",
          "height": 1000
        },
        "id": "wl22V9H7wEnf",
        "outputId": "1317248e-a263-44e3-e29d-1c1e18936cf8"
      },
      "source": [
        "# Убедимся в ненормальности распределения с помощью QQ-графиков\n",
        "\n",
        "for item in range(len(genre_list)):\n",
        "  x_exp = sales_by_genre(gps, genre_list).get(genre_list[item])\n",
        "  stats.probplot(x_exp, dist='norm', plot=pylab)\n",
        "  plt.title(f'QQ-график {genre_list[item]}')\n",
        "  plt.show()"
      ],
      "execution_count": 106,
      "outputs": [
        {
          "output_type": "display_data",
          "data": {
            "image/png": "[encoded data removed]",
            "text/plain": [
              "<Figure size 432x288 with 1 Axes>"
            ]
          },
          "metadata": {
            "needs_background": "light"
          }
        },
        {
          "output_type": "display_data",
          "data": {
            "image/png": "[encoded data removed]",
            "text/plain": [
              "<Figure size 432x288 with 1 Axes>"
            ]
          },
          "metadata": {
            "needs_background": "light"
          }
        },
        {
          "output_type": "display_data",
          "data": {
            "image/png": "[encoded data removed]",
            "text/plain": [
              "<Figure size 432x288 with 1 Axes>"
            ]
          },
          "metadata": {
            "needs_background": "light"
          }
        },
        {
          "output_type": "display_data",
          "data": {
            "image/png": "[encoded data removed]",
            "text/plain": [
              "<Figure size 432x288 with 1 Axes>"
            ]
          },
          "metadata": {
            "needs_background": "light"
          }
        },
        {
          "output_type": "display_data",
          "data": {
            "image/png": "[encoded data removed]",
            "text/plain": [
              "<Figure size 432x288 with 1 Axes>"
            ]
          },
          "metadata": {
            "needs_background": "light"
          }
        },
        {
          "output_type": "display_data",
          "data": {
            "image/png": "[encoded data removed]",
            "text/plain": [
              "<Figure size 432x288 with 1 Axes>"
            ]
          },
          "metadata": {
            "needs_background": "light"
          }
        },
        {
          "output_type": "display_data",
          "data": {
            "image/png": "[encoded data removed]",
            "text/plain": [
              "<Figure size 432x288 with 1 Axes>"
            ]
          },
          "metadata": {
            "needs_background": "light"
          }
        },
        {
          "output_type": "display_data",
          "data": {
            "image/png": "[encoded data removed]",
            "text/plain": [
              "<Figure size 432x288 with 1 Axes>"
            ]
          },
          "metadata": {
            "needs_background": "light"
          }
        },
        {
          "output_type": "display_data",
          "data": {
            "image/png": "[encoded data removed]",
            "text/plain": [
              "<Figure size 432x288 with 1 Axes>"
            ]
          },
          "metadata": {
            "needs_background": "light"
          }
        },
        {
          "output_type": "display_data",
          "data": {
            "image/png": "[encoded data removed]",
            "text/plain": [
              "<Figure size 432x288 with 1 Axes>"
            ]
          },
          "metadata": {
            "needs_background": "light"
          }
        },
        {
          "output_type": "display_data",
          "data": {
            "image/png": "[encoded data removed]",
            "text/plain": [
              "<Figure size 432x288 with 1 Axes>"
            ]
          },
          "metadata": {
            "needs_background": "light"
          }
        },
        {
          "output_type": "display_data",
          "data": {
            "image/png": "[encoded data removed]",
            "text/plain": [
              "<Figure size 432x288 with 1 Axes>"
            ]
          },
          "metadata": {
            "needs_background": "light"
          }
        }
      ]
    },
    {
      "cell_type": "markdown",
      "metadata": {
        "id": "LFr62cqrgkh7"
      },
      "source": [
        "**Вывод:** данные подгрупп не имеют нормального распределения. Следовательно для проведения дисперсионного анализа вместо z/t-критериев мы можем использовать критерий Манна-Уитни."
      ]
    },
    {
      "cell_type": "markdown",
      "metadata": {
        "id": "qDEg2h9yemOW"
      },
      "source": [
        "### **4. Проверка на однородность дисперсий.**\n",
        "\n",
        "Так как данные подгрупп не имеют нормального распределения для провеки однородности дисперсий воспользуемся критерием Кохрена. Составим гипотизы.\n",
        "\n",
        "$H0: σ_1^2 = σ_2^2 = ... = σ_{12}^2 = σ^2$\n",
        "\n",
        "$H1: σ_{max}^2 > σ^2$\n",
        "\n",
        "Статистическую значимость возьмем $\\textbf{0.05}$.\n",
        "\n",
        "Все $12$ выборок по жанрам имеют одинаковый объем измерений, что также удовлетворяет допущениям критерия Кохрена.\n",
        "\n",
        "Табличное значение этого критерия для уровня значимости $α = 0.05$, при числе степеней свободы для каждой из дисперсий $m = 580-1 = 579$ и числе сравниваемых дисперсий $k = 12$, равно $G_{0.05;\\ 579;\\ 12}=\\textbf{0.0833}$."
      ]
    },
    {
      "cell_type": "code",
      "metadata": {
        "colab": {
          "base_uri": "https://localhost:8080/"
        },
        "id": "FGFrJqvJkO7k",
        "outputId": "7c54bde3-33b6-4ca6-d78a-fa0f10241b7d"
      },
      "source": [
        "# Проверим однородность дисперсий по критерию Кохрена\n",
        "\n",
        "g_table = 0.0833\n",
        "d_list = []\n",
        "for item in range(len(genre_list)):\n",
        "  d_list.append(np.var(sales_by_genre(gps, genre_list).get(genre_list[item]), ddof=1))\n",
        "d_list.sort(reverse=True)\n",
        "g = d_list[0]/sum(d_list)\n",
        "\n",
        "if g < g_table:\n",
        "  print(f'Принимаем гипотезу H0.\\nG = {g}')\n",
        "else:\n",
        "  print(f'Принимаем гипотезу H1.\\nG = {g}')"
      ],
      "execution_count": 107,
      "outputs": [
        {
          "output_type": "stream",
          "name": "stdout",
          "text": [
            "Принимаем гипотезу H1.\n",
            "G = 0.3151098083353864\n"
          ]
        }
      ]
    },
    {
      "cell_type": "markdown",
      "metadata": {
        "id": "ANwUvDfl9DaG"
      },
      "source": [
        "**Вывод:** так как расчетное $G$ больше табличного $G_{α;m;k}$, отклонение дисперсии $\\sigma_{max}^2 = 9.115$ от остальных следует (с вероятностью 0.95) признать существенным, и, следовательно, все дисперсии не являются однородными (т.е. разбросы в измерениях всех 12 жанров разные)."
      ]
    },
    {
      "cell_type": "code",
      "metadata": {
        "colab": {
          "base_uri": "https://localhost:8080/",
          "height": 435
        },
        "id": "IodIJ6oriIrk",
        "outputId": "682ab999-700f-407e-b2af-b6858f062022"
      },
      "source": [
        "# Посмотрим на разброс значений\n",
        "\n",
        "pn.options.figure_size = (11, 4)\n",
        "pn.ggplot(gps) + pn.aes(x=\"Genre\", y=\"Global_Sales\", size='pop') + pn.geom_point(size=0.1)"
      ],
      "execution_count": 110,
      "outputs": [
        {
          "output_type": "stream",
          "name": "stderr",
          "text": [
            "/usr/local/lib/python3.7/dist-packages/plotnine/utils.py:1246: FutureWarning: is_categorical is deprecated and will be removed in a future version.  Use is_categorical_dtype instead\n",
            "  if pdtypes.is_categorical(arr):\n"
          ]
        },
        {
          "output_type": "display_data",
          "data": {
            "image/png": "[encoded data removed]",
            "text/plain": [
              "<Figure size 1100x400 with 1 Axes>"
            ]
          },
          "metadata": {}
        },
        {
          "output_type": "execute_result",
          "data": {
            "text/plain": [
              "<ggplot: (8731150141893)>"
            ]
          },
          "metadata": {},
          "execution_count": 110
        }
      ]
    },
    {
      "cell_type": "markdown",
      "metadata": {
        "id": "4eWpOHpDwWKH"
      },
      "source": [
        "### **Итоговый вывод**\n",
        "\n",
        "Исследовав данные продаж видеоигр **Global_Sales** по признаку **Genre**, мы выяснили, что их распределение не является нормальным, а дисперсии неоднородны. \n",
        "\n",
        "В связи с чем применение дисперсионного анализа для выяления влияния признака \"Genre\" на продажи некорректно, необходимо попробовать улучшить данные через логарифмирование или использовать другие методы, например линейную регрессию."
      ]
    }
  ]
}