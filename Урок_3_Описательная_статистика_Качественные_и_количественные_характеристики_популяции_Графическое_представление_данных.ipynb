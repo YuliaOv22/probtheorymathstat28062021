{
  "nbformat": 4,
  "nbformat_minor": 0,
  "metadata": {
    "colab": {
      "name": "Урок 3. Описательная статистика. Качественные и количественные характеристики популяции. Графическое представление данных.ipynb",
      "provenance": []
    },
    "kernelspec": {
      "name": "python3",
      "display_name": "Python 3"
    },
    "language_info": {
      "name": "python"
    }
  },
  "cells": [
    {
      "cell_type": "code",
      "metadata": {
        "id": "Gi_9z-fc_JAz"
      },
      "source": [
        "import numpy as np\n",
        "import pandas as pd\n",
        "from math import factorial\n",
        "\n",
        "# Формула для подсчета сочетаний\n",
        "def combinations(n, k):\n",
        "    return int(factorial(n) / (factorial(k) * factorial(n - k)))\n",
        "\n",
        "# Формула для подсчета размещений\n",
        "def arrangements(n, k):\n",
        "    return int(factorial(n) / factorial(n - k))\n",
        "\n",
        "# Формула для подсчета перестановок\n",
        "def permutations(n):\n",
        "    return int(factorial(n))"
      ],
      "execution_count": 496,
      "outputs": []
    },
    {
      "cell_type": "markdown",
      "metadata": {
        "id": "S4dFNVVh-xZj"
      },
      "source": [
        "**1. Даны значения зарплат из выборки выпускников: 100, 80, 75, 77, 89, 33, 45, 25, 65, 17, 30, 24, 57, 55, 70, 75, 65, 84, 90, 150. Посчитать (желательно без использования статистических методов наподобие std, var, mean) среднее арифметическое, среднее квадратичное отклонение, смещенную и несмещенную оценки дисперсий для данной выборки.**"
      ]
    },
    {
      "cell_type": "markdown",
      "metadata": {
        "id": "xvSB9hufNKvw"
      },
      "source": [
        "Среднее арифметическое выборки:\n",
        "\n",
        "$\\overline{X} = \\frac{1}{n} \\sum\\limits_{i=1}^{n} x_i$\n",
        "\n",
        "Среднее квадратичное отклонение выборки:\n",
        "\n",
        "$S = \\sqrt{\\frac{\\sum\\limits_{i=1}^{n} (x_i - \\overline{x})^2}{n}}$\n",
        "\n",
        "Смещенная оценка дисперсии выборки:\n",
        "\n",
        "$S^2 = \\frac{\\sum\\limits_{i=1}^{n} (x_i - \\overline{x})^2}{n}$\n",
        "\n",
        "Несмещенная оценка дисперсии выборки:\n",
        "\n",
        "$S^2_{несмещ.} = \\frac{\\sum\\limits_{i=1}^{n} (x_i - \\overline{x})^2}{n - 1}$"
      ]
    },
    {
      "cell_type": "code",
      "metadata": {
        "colab": {
          "base_uri": "https://localhost:8080/"
        },
        "id": "G4DzwTvOSD6E",
        "outputId": "83417bf0-02b7-432c-8cbf-c95d00ae4506"
      },
      "source": [
        "hockey_players = [100, 80, 75, 77, 89, 33, 45, 25, 65, 17, 30, 24, 57, 55, 70, 75, 65, 84, 90, 150]\n",
        "\n",
        "# Среднее арифметическое выборки\n",
        "def f_mean(data):\n",
        "  data_mean = sum(data)/len(data)\n",
        "  return data_mean\n",
        "\n",
        "# Среднее квадратичное отклонение выборки:\n",
        "def f_std(data):\n",
        "  list_ = []\n",
        "  for i in range(len(data)):\n",
        "    list_.append((data[i]-f_mean(data))**2)\n",
        "  data_std = np.sqrt(sum(list_)/len(data))\n",
        "  return data_std\n",
        "\n",
        "# Оценка дисперсии выборки:\n",
        "def f_var(data, ddof=0):\n",
        "  list_ = []\n",
        "  for i in range(len(data)):\n",
        "    list_.append((data[i]-f_mean(data))**2)\n",
        "  data_var = sum(list_)/(len(data)-ddof)\n",
        "  return data_var\n",
        "\n",
        "# Медиана\n",
        "def f_median(data):\n",
        "  data = np.array(data)\n",
        "  data.sort()\n",
        "  n = len(data)\n",
        "  if n % 2 == 0:\n",
        "    data_median = (data[int((n-1)/2)] + data[int((n-1)/2 + 1)])/2\n",
        "  else:\n",
        "    data_median = data[int((n)/2)]\n",
        "  return data_median\n",
        "\n",
        "# Мода\n",
        "def f_mode(data):\n",
        "  count_list = []\n",
        "  for i in data:\n",
        "    count_list.append(data.count(i))\n",
        "  data_mode = [item for item in set(data) if data.count(item) == max(count_list)]\n",
        "  return data_mode\n",
        "\n",
        "# Персентиль/Квартиль\n",
        "def f_prcntl(data, k):\n",
        "  data = np.array(data)\n",
        "  data.sort()\n",
        "  n = len(data)\n",
        "  if n*k % 100 == 0:\n",
        "    data_prcntl = (data[int((n-1)*k/100)] + data[int(((n-1)*k/100)+1)])/2\n",
        "  else:\n",
        "    data_prcntl = data[int(n*k/100)]\n",
        "  return data_prcntl\n",
        "\n",
        "print(f'Среднее арифметическое: {f_mean(hockey_players)}')\n",
        "print(f'Среднее квадратичное отклонение: {f_std(hockey_players)}')\n",
        "print(f'Смещенная оценка дисперсии: {f_var(hockey_players)}')\n",
        "print(f'Несмещенная оценка дисперсии: {f_var(hockey_players, 1)}')\n",
        "print(f'Медиана: {f_median(hockey_players)}')\n",
        "print(f'Мода: {f_mode(hockey_players)}')\n",
        "print(f'1-й и 3-й Квартили: {[f_prcntl(hockey_players, 25), f_prcntl(hockey_players, 75)]}')\n",
        "print(f'Интерквартильное расстояние: {f_prcntl(hockey_players, 75) - f_prcntl(hockey_players, 25)}')"
      ],
      "execution_count": 500,
      "outputs": [
        {
          "output_type": "stream",
          "text": [
            "Среднее арифметическое: 65.3\n",
            "Среднее квадратичное отклонение: 30.823854398825596\n",
            "Смещенная оценка дисперсии: 950.11\n",
            "Несмещенная оценка дисперсии: 1000.1157894736842\n",
            "Медиана: 67.5\n",
            "Мода: [65, 75]\n",
            "1-й и 3-й Квартили: [39.0, 82.0]\n",
            "Интерквартильное расстояние: 43.0\n"
          ],
          "name": "stdout"
        }
      ]
    },
    {
      "cell_type": "code",
      "metadata": {
        "colab": {
          "base_uri": "https://localhost:8080/"
        },
        "id": "_2HoEcalTlj-",
        "outputId": "c2b0ceed-4ec8-4d38-e98c-06df21ebe30e"
      },
      "source": [
        "# Проверка\n",
        "print(f'Среднее арифметическое: {np.mean(data)}')\n",
        "print(f'Среднее квадратичное отклонение: {np.std(data)}')\n",
        "print(f'Смещенная оценка дисперсии: {np.var(data, ddof=0)}')\n",
        "print(f'Несмещенная оценка дисперсии: {np.var(data, ddof=1)}')\n",
        "print(f'Медиана: {np.median(hockey_players)}')\n",
        "print(f'\\nМода: \\n{pd.Series(hockey_players).mode()}\\n')\n",
        "print(f'Квартили: {np.quantile(hockey_players, [0.25, 0.5, 0.75], interpolation=\"midpoint\")}')\n",
        "print(f'Интерквартильное расстояние: {np.quantile(data, 0.75, interpolation=\"midpoint\") - np.quantile(data, 0.25, interpolation=\"midpoint\")}')"
      ],
      "execution_count": 501,
      "outputs": [
        {
          "output_type": "stream",
          "text": [
            "Среднее арифметическое: 65.3\n",
            "Среднее квадратичное отклонение: 30.823854398825592\n",
            "Смещенная оценка дисперсии: 950.1099999999999\n",
            "Несмещенная оценка дисперсии: 1000.115789473684\n",
            "Медиана: 67.5\n",
            "\n",
            "Мода: \n",
            "0    65\n",
            "1    75\n",
            "dtype: int64\n",
            "\n",
            "Квартили: [39.  67.5 82. ]\n",
            "Интерквартильное расстояние: 43.0\n"
          ],
          "name": "stdout"
        }
      ]
    },
    {
      "cell_type": "markdown",
      "metadata": {
        "id": "fnsjEeJ1-2Op"
      },
      "source": [
        "**2. В первом ящике находится 8 мячей, из которых 5 - белые. Во втором ящике - 12 мячей, из которых 5 белых. Из первого ящика вытаскивают случайным образом два мяча, из второго - 4. Какова вероятность того, что 3 мяча белые?**"
      ]
    },
    {
      "cell_type": "code",
      "metadata": {
        "colab": {
          "base_uri": "https://localhost:8080/"
        },
        "id": "gl2xqARFcE2S",
        "outputId": "c3a04b15-d73f-4b50-e75f-f7a1a6968eb7"
      },
      "source": [
        "# Решение через сочетания и формулу Байеса\n",
        "\n",
        "# 1-й ящик 0 белых мячей\n",
        "p_box1_w0 = combinations(5, 0)*combinations(3, 2)/combinations(8, 2) # 0.10714285714285714\n",
        "\n",
        "# 1-й ящик 1 белый мяч\n",
        "p_box1_w1 = combinations(5, 1)*combinations(3, 1)/combinations(8, 2) # 0.5357142857142857\n",
        "\n",
        "# 1-й ящик 2 белых мяча\n",
        "p_box1_w2 = combinations(5, 2)*combinations(3, 0)/combinations(8, 2) # 0.35714285714285715\n",
        "\n",
        "# 2-й ящик 1 белый мяч\n",
        "p_box2_w1 = combinations(5, 1)*combinations(7, 3)/combinations(12, 4) # 0.35353535353535354\n",
        "\n",
        "# 2-й ящик 2 белых мяча\n",
        "p_box2_w2 = combinations(5, 2)*combinations(7, 2)/combinations(12, 4) # 0.42424242424242425\n",
        "\n",
        "# 2-й ящик 3 белых мяча\n",
        "p_box2_w3 = combinations(5, 3)*combinations(7, 1)/combinations(12, 4) # 0.1414141414141414\n",
        "\n",
        "# Вероятность того, что 3 мяча белые\n",
        "p_case1 = p_box1_w1*p_box2_w2 # 0.22727272727272727\n",
        "p_case2 = p_box1_w2*p_box2_w1 # 0.12626262626262627\n",
        "p_case3 = p_box1_w0*p_box2_w3 # 0.01515151515151515\n",
        "\n",
        "p_total = p_case1 + p_case2 + p_case3\n",
        "\n",
        "print(f'Ответ: {p_total}')"
      ],
      "execution_count": 502,
      "outputs": [
        {
          "output_type": "stream",
          "text": [
            "Ответ: 0.3686868686868687\n"
          ],
          "name": "stdout"
        }
      ]
    },
    {
      "cell_type": "markdown",
      "metadata": {
        "id": "4cuKDLgJ-8LX"
      },
      "source": [
        "**3. На соревновании по биатлону один из трех спортсменов стреляет и попадает в мишень. Вероятность попадания для первого спортсмена равна 0.9, для второго — 0.8, для третьего — 0.6. Найти вероятность того, что выстрел произведен:**\n",
        "\n",
        "**a). первым спортсменом**\n",
        "\n",
        "**б). вторым спортсменом**\n",
        "\n",
        "**в). третьим спортсменом.**"
      ]
    },
    {
      "cell_type": "markdown",
      "metadata": {
        "id": "-EAH-DIPu2Yb"
      },
      "source": [
        "Воспользуемся формулой Байеса:\n",
        "\n",
        "$P(B|A) = \\frac{P(B) \\cdot P(A\\:|\\:B)}{P(A)}$\n",
        "\n",
        "Вероятность выстрелить каждого спортсмена равна $\\frac{1}{3}$. Это событие $B$.\n",
        "\n",
        "Вероятность попадания по каждому спортсмену:\n",
        "\n",
        "$P(A|B_1) = 0.9$\n",
        "\n",
        "$P(A|B_2) = 0.8$\n",
        "\n",
        "$P(A|B_3) = 0.6$\n",
        "\n",
        "Вероятность попасть в мишень - это событие $A$. Найдем его по формуле полной вероятности:\n",
        "\n",
        "$P(A) = \\frac{1}{3}*0.9 + \\frac{1}{3}*0.8 + \\frac{1}{3}*0.6 = \\frac{1}{3}*2.3 = \\frac{23}{30}$\n",
        "\n",
        "а) Вероятность попадания в мишень первым спортсменом:\n",
        "\n",
        "$P(B_1|A) = \\frac{\\frac{1}{3}*0.9}{\\frac{23}{30}} = \\frac{9*30}{30*23} = \\frac{9}{23} \\approx {\\color {red}{0.391}}$\n",
        "\n",
        "б) Вероятность попадания в мишень вторым спортсменом:\n",
        "\n",
        "$P(B_2|A) = \\frac{\\frac{1}{3}*0.8}{\\frac{23}{30}} = \\frac{8*30}{30*23} = \\frac{8}{23} \\approx {\\color {red}{0.348}}$\n",
        "\n",
        "в) Вероятность попадания в мишень третьим спортсменом:\n",
        "\n",
        "$P(B_3|A) = \\frac{\\frac{1}{3}*0.6}{\\frac{23}{30}} = \\frac{6*30}{30*23} = \\frac{6}{23} \\approx {\\color {red}{0.261}}$\n"
      ]
    },
    {
      "cell_type": "code",
      "metadata": {
        "colab": {
          "base_uri": "https://localhost:8080/"
        },
        "id": "xJEe0XKXj1Wc",
        "outputId": "df6e86e5-4b22-45f6-f64c-2262c210ac6c"
      },
      "source": [
        "p_shoot = 1/3\n",
        "p_target_1 = 0.9\n",
        "p_target_2 = 0.8\n",
        "p_target_3 = 0.6\n",
        "\n",
        "p = p_shoot*(p_target_1 + p_target_2 + p_target_3) # 0.7666666666666667\n",
        "\n",
        "sportmen_1 = p_shoot*p_target_1/p\n",
        "sportmen_2 = p_shoot*p_target_2/p\n",
        "sportmen_3 = p_shoot*p_target_3/p\n",
        "\n",
        "print(f'Ответ а): {sportmen_1:.3f}')\n",
        "print(f'Ответ б): {sportmen_2:.3f}')\n",
        "print(f'Ответ в): {sportmen_3:.3f}')"
      ],
      "execution_count": 503,
      "outputs": [
        {
          "output_type": "stream",
          "text": [
            "Ответ а): 0.391\n",
            "Ответ б): 0.348\n",
            "Ответ в): 0.261\n"
          ],
          "name": "stdout"
        }
      ]
    },
    {
      "cell_type": "markdown",
      "metadata": {
        "id": "nBSM1EI5_Byr"
      },
      "source": [
        "**4. В университет на факультеты A и B поступило равное количество студентов, а на факультет C студентов поступило столько же, сколько на A и B вместе. Вероятность того, что студент факультета A сдаст первую сессию, равна 0.8. Для студента факультета B эта вероятность равна 0.7, а для студента факультета C - 0.9. Студент сдал первую сессию. Какова вероятность, что он учится:**\n",
        "\n",
        "**a). на факультете A**\n",
        "\n",
        "**б). на факультете B**\n",
        "\n",
        "**в). на факультете C?**"
      ]
    },
    {
      "cell_type": "markdown",
      "metadata": {
        "id": "qLot709_u23u"
      },
      "source": [
        "Воспользуемся формулой Байеса:\n",
        "\n",
        "$P(B|A) = \\frac{P(B) \\cdot P(A\\:|\\:B)}{P(A)}$\n",
        "\n",
        "Предположим, что на факультетах $A$ и $B$ по $n$ студентов, тогда на факультете $C$ - $2n$ студентов. Общее количество студентов будет равно $n + n + 2n = 4n$. Найдем вероятность обучения студента для каждого факультета:\n",
        "\n",
        "$P(B_A) = \\frac{n}{4n} = \\frac{1}{4}$\n",
        "\n",
        "$P(B_B) = \\frac{n}{4n} = \\frac{1}{4}$\n",
        "\n",
        "$P(B_C) = \\frac{2n}{4n} = \\frac{1}{2}$\n",
        "\n",
        "\n",
        "Вероятность сдать первую сессию студентом по каждому факультету:\n",
        "\n",
        "$P(A|B_A) = 0.8$\n",
        "\n",
        "$P(A|B_B) = 0.7$\n",
        "\n",
        "$P(A|B_C) = 0.9$\n",
        "\n",
        "Найдем полную вероятность сдачи сессии:\n",
        "\n",
        "$P(A) = \\frac{1}{4}*0.8 + \\frac{1}{4}*0.7 + \\frac{1}{2}*0.9 = \\frac{1*8}{4*10} + \\frac{1*7}{4*10} + \\frac{1*9}{2*10} = \\frac{33}{40}$\n",
        "\n",
        "а) Вероятность, что студент учится на факультете $A$:\n",
        "\n",
        "$P(B_A|A) = \\frac{\\frac{1}{4}*0.8}{\\frac{33}{40}} = \\frac{8*40}{40*33} = \\frac{8}{33} \\approx {\\color {red}{0.242}}$\n",
        "\n",
        "б) Вероятность, что студент учится на факультете $B$:\n",
        "\n",
        "$P(B_B|A) = \\frac{\\frac{1}{4}*0.7}{\\frac{33}{40}} = \\frac{7*40}{40*33} = \\frac{7}{33} \\approx {\\color {red}{0.212}}$\n",
        "\n",
        "в) Вероятность, что студент учится на факультете $C$:\n",
        "\n",
        "$P(B_C|A) = \\frac{\\frac{1}{2}*0.9}{\\frac{33}{40}} = \\frac{9*40}{20*33} = \\frac{6}{11} \\approx {\\color {red}{0.545}}$\n"
      ]
    },
    {
      "cell_type": "code",
      "metadata": {
        "colab": {
          "base_uri": "https://localhost:8080/"
        },
        "id": "oWkJJu9zvoJs",
        "outputId": "807683c6-7b40-4a91-cc89-1efda402806d"
      },
      "source": [
        "p_study_A_B = 1/4\n",
        "p_study_C = 1/2\n",
        "p_pass_exam_A = 0.8\n",
        "p_pass_exam_B = 0.7\n",
        "p_pass_exam_C = 0.9\n",
        "\n",
        "p = p_study_A_B*(p_pass_exam_A + p_pass_exam_B) + p_study_C*p_pass_exam_C # 0.825\n",
        "\n",
        "student_A = p_study_A_B*p_pass_exam_A/p\n",
        "student_B = p_study_A_B*p_pass_exam_B/p\n",
        "student_C = p_study_C*p_pass_exam_C/p\n",
        "\n",
        "print(f'Ответ а): {student_A:.3f}')\n",
        "print(f'Ответ б): {student_B:.3f}')\n",
        "print(f'Ответ в): {student_C:.3f}')"
      ],
      "execution_count": 504,
      "outputs": [
        {
          "output_type": "stream",
          "text": [
            "Ответ а): 0.242\n",
            "Ответ б): 0.212\n",
            "Ответ в): 0.545\n"
          ],
          "name": "stdout"
        }
      ]
    },
    {
      "cell_type": "markdown",
      "metadata": {
        "id": "KaW8w6PN_Ezd"
      },
      "source": [
        "**5. Устройство состоит из трех деталей. Для первой детали вероятность выйти из строя в первый месяц равна 0.1, для второй - 0.2, для третьей - 0.25. Какова вероятность того, что в первый месяц выйдут из строя:**\n",
        "\n",
        "**а). все детали**\n",
        "\n",
        "**б). только две детали**\n",
        "\n",
        "**в). хотя бы одна деталь**\n",
        "\n",
        "**г). от одной до двух деталей?**"
      ]
    },
    {
      "cell_type": "markdown",
      "metadata": {
        "id": "fqZZDdLenF6U"
      },
      "source": [
        "Обозначим вероятность выйти детали из строя $p$, а вероятность остаться работать - $q$. Тогда:\n",
        "\n",
        "$p_1 = 0.1$\n",
        "\n",
        "$p_2 = 0.2$\n",
        "\n",
        "$p_3 = 0.25$\n",
        "\n",
        "$q_1 = 1 - 0.1 = 0.9$\n",
        "\n",
        "$q_2 = 1 - 0.2 = 0.8$\n",
        "\n",
        "$q_3 = 1 - 0.25 = 0.75$\n",
        "\n",
        "а) Вероятность, что выйдут из строя все детали:\n",
        "\n",
        "$P = p_1*p_2*p_3 = 0.1*0.2*0.25 = {\\color {red}{0.005}}$\n",
        "\n",
        "б) Вероятность, что выйдут из строя только 2 детали:\n",
        "\n",
        "$P = p_1*p_2*q_3 + p_1*q_2*p_3 + q_1*p_2*p_3 = 0.1*0.2*0.75 + 0.1*0.8*0.25 + 0.9*0.2*0.25 = {\\color {red}{0.08}}$\n",
        "\n",
        "в) Вероятность, что выйдет из строя хотя бы одна деталь:\n",
        "\n",
        "$P = 1 - q_1*q_2*q_3 = 1 - 0.9*0.8*0.75 = {\\color {red}{0.46}}$\n",
        "\n",
        "г) Вероятность, что выйдет из строя от одной до двух деталей:\n",
        "\n",
        "$P = 1 - p_1*p_2*p_3 - q_1*q_2*q_3 = 1 - 0.1*0.2*0.25 - 0.9*0.8*0.75 = {\\color {red}{0.455}}$"
      ]
    },
    {
      "cell_type": "code",
      "metadata": {
        "colab": {
          "base_uri": "https://localhost:8080/"
        },
        "id": "5Y8GLFcEM5lR",
        "outputId": "a9557a1d-fe28-4da5-bf14-372cd4342d7d"
      },
      "source": [
        "p_b1 = 0.1\n",
        "p_b2 = 0.2\n",
        "p_b3 = 0.25\n",
        "\n",
        "q_w1 = 1 - p_b1\n",
        "q_w2 = 1 - p_b2\n",
        "q_w3 = 1 - p_b3\n",
        "\n",
        "break_all = p_b1*p_b2*p_b3\n",
        "break_2 = p_b1*p_b2*q_w3 + p_b1*q_w2*p_b3 + q_w1*p_b2*p_b3\n",
        "break_1_2_3 = 1 - q_w1*q_w2*q_w3\n",
        "break_1_2 = 1 - break_all - q_w1*q_w2*q_w3\n",
        "\n",
        "print(f'Ответ а): {break_all:.3f}')\n",
        "print(f'Ответ б): {break_2:.3f}')\n",
        "print(f'Ответ в): {break_1_2_3:.3f}')\n",
        "print(f'Ответ г): {break_1_2:.3f}')"
      ],
      "execution_count": 505,
      "outputs": [
        {
          "output_type": "stream",
          "text": [
            "Ответ а): 0.005\n",
            "Ответ б): 0.080\n",
            "Ответ в): 0.460\n",
            "Ответ г): 0.455\n"
          ],
          "name": "stdout"
        }
      ]
    }
  ]
}