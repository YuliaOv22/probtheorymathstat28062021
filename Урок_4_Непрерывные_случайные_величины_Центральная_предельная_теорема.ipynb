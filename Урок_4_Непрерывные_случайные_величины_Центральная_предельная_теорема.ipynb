{
  "nbformat": 4,
  "nbformat_minor": 0,
  "metadata": {
    "colab": {
      "name": "Урок 4. Непрерывные случайные величины. Функция распределения и плотность распределения вероятностей. Равномерное и нормальное распределение. Центральная предельная теорема.ipynb",
      "provenance": []
    },
    "kernelspec": {
      "name": "python3",
      "display_name": "Python 3"
    },
    "language_info": {
      "name": "python"
    }
  },
  "cells": [
    {
      "cell_type": "code",
      "metadata": {
        "id": "N6gSD9bfFLue"
      },
      "source": [
        "import pandas as pd\n",
        "import numpy as np"
      ],
      "execution_count": 1,
      "outputs": []
    },
    {
      "cell_type": "markdown",
      "metadata": {
        "id": "dyB_aHTZD9m-"
      },
      "source": [
        "**1. Случайная непрерывная величина A имеет равномерное распределение на промежутке (200, 800]. Найдите ее среднее значение и дисперсию.**"
      ]
    },
    {
      "cell_type": "markdown",
      "metadata": {
        "id": "CHmRsUnAPJbQ"
      },
      "source": [
        "Случайная непрерывная величина $A$ является равномерной, следовательно ее можно описать формулой:\n",
        "\n",
        "$f(x) = \\begin{cases} 0, если \\; x \\le a; \\\\ \\frac{1}{b - a}, если \\; a < x \\le b; \\\\ 0, \\; если \\; x > b. \\end{cases}$\n",
        "\n",
        "Тогда среднее значение находим по формуле:\n",
        "\n",
        "$M(X) = \\frac{a + b}{2}$\n",
        "\n",
        "Дисперсию - по формуле:\n",
        "\n",
        "$D(X) = \\frac{(b - a)^2}{12}$\n",
        "\n",
        "Подставим значения в формулы:\n",
        "\n",
        "$M(X) = \\frac{200 + 800}{2} = {\\color {red}{500}}$\n",
        "\n",
        "$D(X) = \\frac{(800 - 200)^2}{12} = \\frac{600*600}{2*6} = {\\color {red}{30000}}$"
      ]
    },
    {
      "cell_type": "code",
      "metadata": {
        "colab": {
          "base_uri": "https://localhost:8080/"
        },
        "id": "lDaGpKLDPSDE",
        "outputId": "481fe4f0-3ed9-4b38-e493-1a87bce5eb61"
      },
      "source": [
        "A = np.linspace(200, 800)\n",
        "\n",
        "print(f'Среднее значение: {A.mean()}')\n",
        "print(f'Дисперсия: {A.var(ddof=1)}')"
      ],
      "execution_count": null,
      "outputs": [
        {
          "output_type": "stream",
          "text": [
            "Среднее значение: 500.0\n",
            "Дисперсия: 31861.724281549356\n"
          ],
          "name": "stdout"
        }
      ]
    },
    {
      "cell_type": "markdown",
      "metadata": {
        "id": "1dOWu0D1EAHD"
      },
      "source": [
        "**2. О случайной непрерывной равномерно распределенной величине B известно, что ее дисперсия равна 0.2. Можно ли найти правую границу величины B и ее среднее значение зная, что левая граница равна 0.5? Если да, найдите ее.**"
      ]
    },
    {
      "cell_type": "markdown",
      "metadata": {
        "id": "4tV3rc0IgptG"
      },
      "source": [
        "Случайная непрерывная величина $B$ является равномерной, следовательно ее можно описать формулой:\n",
        "\n",
        "$f(x) = \\begin{cases} 0, если \\; x \\le a; \\\\ \\frac{1}{b - a}, если \\; a < x \\le b; \\\\ 0, \\; если \\; x > b. \\end{cases}$\n",
        "\n",
        "При этом $a = 0.5$, $D(X) = 0.2$.\n",
        "\n",
        "Найдем правую границу через формулу дисперсии:\n",
        "\n",
        "$b = \\sqrt{12D(X)} + a$\n",
        "\n",
        "$b = \\sqrt{12*0.2} + 0.5 \\approx {\\color {red}{2.05}}$\n",
        "\n",
        "Найдем среднее значение:\n",
        "\n",
        "$M(X) = \\frac{0.5 + 2.05}{2} \\approx {\\color {red}{1.275}}$"
      ]
    },
    {
      "cell_type": "markdown",
      "metadata": {
        "id": "q9_QBpahEBhN"
      },
      "source": [
        "**3. Непрерывная случайная величина X распределена нормально и задана плотностью распределения** \n",
        "\n",
        "**$f(x) = \\frac{1} {4\\sqrt{2\\pi}} * e ^ {-\\frac{(x+2)^2}{32}}$.**\n",
        "\n",
        "**Найдите:**\n",
        "\n",
        "**а). M(X)**\n",
        "\n",
        "**б). D(X)**\n",
        "\n",
        "**в). std(X) (среднее квадратичное отклонение)**"
      ]
    },
    {
      "cell_type": "markdown",
      "metadata": {
        "id": "Lmr5krXbVitS"
      },
      "source": [
        "Плотность нормального распределения непрерывной случайной величины описывается формулой:\n",
        "\n",
        "$f(x) = \\frac{1}{\\sigma \\sqrt{2 \\pi}} e ^ {- \\frac{(x - a)^2}{2 \\sigma^2}}$\n",
        "\n",
        "Исходя из этого, найдем среднее значение, дисперсию и стандарное отклонение из исходной функции:\n",
        "\n",
        "а) $M(X) = {\\color {red}{-2}}$\n",
        "\n",
        "б) $D(X) = {\\color {red}{16}}$\n",
        "\n",
        "в) $\\sigma = {\\color {red}{4}}$"
      ]
    },
    {
      "cell_type": "markdown",
      "metadata": {
        "id": "sv6Fcv5wEC6U"
      },
      "source": [
        "**4. Рост взрослого населения города X имеет нормальное распределение.\n",
        "Причем, средний рост равен 174 см, а среднее квадратичное отклонение равно 8 см. Какова вероятность того, что случайным образом выбранный взрослый человек имеет рост:**\n",
        "\n",
        "**а). больше 182 см**\n",
        "\n",
        "**б). больше 190 см**\n",
        "\n",
        "**в). от 166 см до 190 см**\n",
        "\n",
        "**г). от 166 см до 182 см**\n",
        "\n",
        "**д). от 158 см до 190 см**\n",
        "\n",
        "**е). не выше 150 см или не ниже 190 см**\n",
        "\n",
        "**ё). не выше 150 см или не ниже 198 см**\n",
        "\n",
        "**ж). ниже 166 см.**"
      ]
    },
    {
      "cell_type": "markdown",
      "metadata": {
        "id": "AQ5uOQspoyA9"
      },
      "source": [
        "По условию задачи:\n",
        "\n",
        "$M(X) = 174$ \n",
        "\n",
        "$\\sigma = 8$\n",
        "\n",
        "## **Решение через значения $Z$-таблицы:**\n",
        "\n",
        "**а) больше 182 см**\n",
        "\n",
        "$Z = \\frac{182-174}{8} = 1$\n",
        "\n",
        "$P = 1 - 0.8413 = 0.1587 = {\\color {red}{15.87 \\,\\%}} $\n",
        "\n",
        "**б) больше 190 см**\n",
        "\n",
        "$Z = \\frac{190-174}{8} = 2$\n",
        "\n",
        "$P = 1 - 0.9772 = 0.0228 = {\\color {red}{2.28 \\,\\%}} $\n",
        "\n",
        "**в) от 166 см до 190 см**\n",
        "\n",
        "$Z = \\frac{166-174}{8} = -1$\n",
        "\n",
        "$P = 0.9772 - 0.1587 = 0.8185 = {\\color {red}{81.85 \\,\\%}} $\n",
        "\n",
        "**г) от 166 см до 182 см**\n",
        "\n",
        "$P = 0.8413 - 0.1587 = 0.6826 = {\\color {red}{68.26 \\,\\%}} $\n",
        "\n",
        "**д) от 158 см до 190 см**\n",
        "\n",
        "$Z = \\frac{158-174}{8} = -2$\n",
        "\n",
        "$P = 0.9772 - 0.0228 = 0.9544 = {\\color {red}{95.44 \\,\\%}} $\n",
        "\n",
        "**е) не выше 150 см или не ниже 190 см**\n",
        "\n",
        "$Z = \\frac{150-174}{8} = -3$\n",
        "\n",
        "$P = 0.0014 + 0.0228 = 0.0242 = {\\color {red}{2.42 \\,\\%}} $\n",
        "\n",
        "**ё) не выше 150 см или не ниже 198 см**\n",
        "\n",
        "$Z = \\frac{198-174}{8} = 3$\n",
        "\n",
        "$P = 0.0014 + (1 - 0.9986) = 0.0028 = {\\color {red}{0.28 \\,\\%}} $\n",
        "\n",
        "**ж) ниже 166 см**\n",
        "\n",
        "$P = 0.1587 = {\\color {red}{15.87 \\,\\%}} $"
      ]
    },
    {
      "cell_type": "code",
      "metadata": {
        "colab": {
          "base_uri": "https://localhost:8080/"
        },
        "id": "OvRcMUI3yZS7",
        "outputId": "758d488e-65cb-4734-ae51-6644fe9627b0"
      },
      "source": [
        "# Табличные значение Z\n",
        "from scipy.stats import norm\n",
        "norm.cdf(-2)"
      ],
      "execution_count": 11,
      "outputs": [
        {
          "output_type": "execute_result",
          "data": {
            "text/plain": [
              "0.022750131948179195"
            ]
          },
          "metadata": {},
          "execution_count": 11
        }
      ]
    },
    {
      "cell_type": "markdown",
      "metadata": {
        "id": "MALRHfwnL4Wr"
      },
      "source": [
        "## **Решение через правило 3-х сигм:**\n",
        "\n",
        "$\\pm\\sigma = \\frac{68}{2} = 34 \\, \\%$\n",
        "\n",
        "$\\pm2\\sigma = \\frac{95.4 - 68}{2} = 13.7 \\, \\%$\n",
        "\n",
        "$\\pm3\\sigma = \\frac{99.72 - 95.4}{2} = 2.16 \\, \\%$\n",
        "\n",
        "${\\scriptsize <}\\, \\sigma/{\\scriptsize >}\\,3\\sigma = \\frac{1 - 99.72}{2} = 0.14 \\, \\%$\n",
        "\n",
        "**а) больше 182 см**\n",
        "\n",
        "$X>\\sigma$\n",
        "\n",
        "$P = 13.7 + 2.16 + 0.14 = {\\color {red}{16 \\,\\%}} $\n",
        "\n",
        "**б) больше 190 см**\n",
        "\n",
        "$X>2\\sigma$\n",
        "\n",
        "$P = 2.16 + 0.14 = {\\color {red}{2.3 \\,\\%}} $\n",
        "\n",
        "**в) от 166 см до 190 см**\n",
        "\n",
        "$-\\sigma<X<2\\sigma$\n",
        "\n",
        "$P = 68 + 13.7 = {\\color {red}{81.7 \\,\\%}} $\n",
        "\n",
        "**г) от 166 см до 182 см**\n",
        "\n",
        "$-\\sigma<X<\\sigma$\n",
        "\n",
        "$P = {\\color {red}{68 \\,\\%}} $\n",
        "\n",
        "**д) от 158 см до 190 см**\n",
        "\n",
        "$-2\\sigma<X<2\\sigma$\n",
        "\n",
        "$P = {\\color {red}{95.4 \\,\\%}} $\n",
        "\n",
        "**е) не выше 150 см или не ниже 190 см**\n",
        "\n",
        "$X<-3\\sigma$ или $X>2\\sigma$\n",
        "\n",
        "$P = 0.14 + 2.16 = {\\color {red}{2.3 \\,\\%}} $\n",
        "\n",
        "**ё) не выше 150 см или не ниже 198 см**\n",
        "\n",
        "$X<-3\\sigma$ или $X>2\\sigma$\n",
        "\n",
        "$P = 0.14 + 0.14 = {\\color {red}{0.28 \\,\\%}} $\n",
        "\n",
        "**ж) ниже 166 см**\n",
        "\n",
        "$X<-\\sigma$\n",
        "\n",
        "$P = 0.14 + 2.16 + 13.7 = {\\color {red}{16 \\,\\%}} $"
      ]
    },
    {
      "cell_type": "code",
      "metadata": {
        "colab": {
          "base_uri": "https://localhost:8080/",
          "height": 296
        },
        "id": "s55-SNAyrcTL",
        "outputId": "31306f1a-c341-4e6b-9c43-d3d4dc54d45a"
      },
      "source": [
        "import matplotlib.pyplot as plt\n",
        "import numpy as np\n",
        "import scipy.stats as stats\n",
        "import math\n",
        "\n",
        "mu = 174\n",
        "variance = 64\n",
        "sigma = math.sqrt(variance)\n",
        "x = np.linspace(mu - 3*sigma, mu + 3*sigma, 100)\n",
        "\n",
        "plt.plot(x, stats.norm.pdf(x, mu, sigma), color='purple')\n",
        "plt.axvline(mu, ymax=0.95, color='red', label='Среднее значение')\n",
        "plt.axvline(mu + sigma, ymax=0.6, color='gray', linestyle='--')\n",
        "plt.axvline(mu - sigma, ymax=0.6, color='gray', linestyle='--')\n",
        "plt.axvline(mu + 2*sigma, ymax=0.15, color='gray', linestyle='--')\n",
        "plt.axvline(mu - 2*sigma, ymax=0.15, color='gray', linestyle='--')\n",
        "plt.axvline(mu + 3*sigma, ymax=0.05, color='gray', linestyle='--')\n",
        "plt.axvline(mu - 3*sigma, ymax=0.05, color='gray', linestyle='--')\n",
        "plt.title('График плотности распределения роста \\nвзрослого населения города X')\n",
        "plt.legend()\n",
        "\n",
        "plt.show()"
      ],
      "execution_count": null,
      "outputs": [
        {
          "output_type": "display_data",
          "data": {
            "image/png": "[encoded data removed]",
            "text/plain": [
              "<Figure size 432x288 with 1 Axes>"
            ]
          },
          "metadata": {
            "needs_background": "light"
          }
        }
      ]
    },
    {
      "cell_type": "markdown",
      "metadata": {
        "id": "GXoIfOWzEEMm"
      },
      "source": [
        "**5. На сколько сигм (средних квадратичных отклонений) отклоняется рост человека, равный 190 см, от математического ожидания роста в популяции, в которой M(X) = 178 см и D(X) = 25 кв.см?**"
      ]
    },
    {
      "cell_type": "markdown",
      "metadata": {
        "id": "wEJfWJSFYlf6"
      },
      "source": [
        "По условию задачи:\n",
        "\n",
        "$M(X) = 178$ \n",
        "\n",
        "$D(X) = 25$\n",
        "\n",
        "Найдем среднее квадватичное отклонение:\n",
        "\n",
        "$\\sigma = \\sqrt{25} = 5$\n",
        "\n",
        "Количество сигм равно:\n",
        "\n",
        "$\\frac{190-178}{5} = {\\color {red}{2.4}}$"
      ]
    },
    {
      "cell_type": "code",
      "metadata": {
        "colab": {
          "base_uri": "https://localhost:8080/",
          "height": 296
        },
        "id": "RvVr0w9CZ6x-",
        "outputId": "d8e6826b-4561-4fe3-a44e-43ab6b9b3fc5"
      },
      "source": [
        "import matplotlib.pyplot as plt\n",
        "import numpy as np\n",
        "import scipy.stats as stats\n",
        "import math\n",
        "\n",
        "mu = 178\n",
        "variance = 25\n",
        "sigma = math.sqrt(variance)\n",
        "x = np.linspace(mu - 3*sigma, mu + 3*sigma, 100)\n",
        "\n",
        "plt.plot(x, stats.norm.pdf(x, mu, sigma), color='purple')\n",
        "plt.axvline(mu, ymax=0.95, color='red', label='Среднее значение')\n",
        "plt.axvline(mu + sigma, ymax=0.6, color='gray', linestyle='--')\n",
        "plt.axvline(mu - sigma, ymax=0.6, color='gray', linestyle='--')\n",
        "plt.axvline(mu + 2*sigma, ymax=0.15, color='gray', linestyle='--')\n",
        "plt.axvline(mu - 2*sigma, ymax=0.15, color='gray', linestyle='--')\n",
        "plt.axvline(mu + 3*sigma, ymax=0.05, color='gray', linestyle='--')\n",
        "plt.axvline(mu - 3*sigma, ymax=0.05, color='gray', linestyle='--')\n",
        "plt.axvline(mu + 2.4*sigma, ymax=0.09, color='black', linewidth=3.0, label='Рост 190')\n",
        "plt.title('График плотности распределения роста \\nвзрослого населения города X')\n",
        "plt.legend()\n",
        "\n",
        "plt.show()"
      ],
      "execution_count": null,
      "outputs": [
        {
          "output_type": "display_data",
          "data": {
            "image/png": "[encoded data removed]",
            "text/plain": [
              "<Figure size 432x288 with 1 Axes>"
            ]
          },
          "metadata": {
            "needs_background": "light"
          }
        }
      ]
    }
  ]
}